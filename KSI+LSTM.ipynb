{
  "nbformat": 4,
  "nbformat_minor": 0,
  "metadata": {
    "colab": {
      "provenance": [],
      "machine_shape": "hm",
      "history_visible": true,
      "mount_file_id": "1oYSmqNktmiighefG0JgTe84I3uzM-MnC",
      "authorship_tag": "ABX9TyPsCap6l2bFrT0NSjX3P0yY",
      "include_colab_link": true
    },
    "kernelspec": {
      "name": "python3",
      "display_name": "Python 3"
    },
    "language_info": {
      "name": "python"
    },
    "gpuClass": "premium",
    "accelerator": "GPU"
  },
  "cells": [
    {
      "cell_type": "markdown",
      "metadata": {
        "id": "view-in-github",
        "colab_type": "text"
      },
      "source": [
        "<a href=\"https://colab.research.google.com/github/sibhap/CSE_6250_Project/blob/master/KSI%2BLSTM.ipynb\" target=\"_parent\"><img src=\"https://colab.research.google.com/assets/colab-badge.svg\" alt=\"Open In Colab\"/></a>"
      ]
    },
    {
      "cell_type": "code",
      "execution_count": 2,
      "metadata": {
        "colab": {
          "base_uri": "https://localhost:8080/",
          "height": 328
        },
        "id": "ebgzDE0YM-rv",
        "outputId": "9104bae3-8b71-432a-c832-51760e9a3506"
      },
      "outputs": [
        {
          "output_type": "error",
          "ename": "MessageError",
          "evalue": "ignored",
          "traceback": [
            "\u001b[0;31m---------------------------------------------------------------------------\u001b[0m",
            "\u001b[0;31mMessageError\u001b[0m                              Traceback (most recent call last)",
            "\u001b[0;32m<ipython-input-2-4996ee3d8d09>\u001b[0m in \u001b[0;36m<module>\u001b[0;34m\u001b[0m\n\u001b[1;32m      1\u001b[0m \u001b[0;32mfrom\u001b[0m \u001b[0mgoogle\u001b[0m\u001b[0;34m.\u001b[0m\u001b[0mcolab\u001b[0m \u001b[0;32mimport\u001b[0m \u001b[0mdrive\u001b[0m\u001b[0;34m\u001b[0m\u001b[0;34m\u001b[0m\u001b[0m\n\u001b[0;32m----> 2\u001b[0;31m \u001b[0mdrive\u001b[0m\u001b[0;34m.\u001b[0m\u001b[0mmount\u001b[0m\u001b[0;34m(\u001b[0m\u001b[0;34m'/content/gdrive'\u001b[0m\u001b[0;34m)\u001b[0m\u001b[0;34m\u001b[0m\u001b[0;34m\u001b[0m\u001b[0m\n\u001b[0m",
            "\u001b[0;32m/usr/local/lib/python3.8/dist-packages/google/colab/drive.py\u001b[0m in \u001b[0;36mmount\u001b[0;34m(mountpoint, force_remount, timeout_ms, readonly)\u001b[0m\n\u001b[1;32m     99\u001b[0m \u001b[0;32mdef\u001b[0m \u001b[0mmount\u001b[0m\u001b[0;34m(\u001b[0m\u001b[0mmountpoint\u001b[0m\u001b[0;34m,\u001b[0m \u001b[0mforce_remount\u001b[0m\u001b[0;34m=\u001b[0m\u001b[0;32mFalse\u001b[0m\u001b[0;34m,\u001b[0m \u001b[0mtimeout_ms\u001b[0m\u001b[0;34m=\u001b[0m\u001b[0;36m120000\u001b[0m\u001b[0;34m,\u001b[0m \u001b[0mreadonly\u001b[0m\u001b[0;34m=\u001b[0m\u001b[0;32mFalse\u001b[0m\u001b[0;34m)\u001b[0m\u001b[0;34m:\u001b[0m\u001b[0;34m\u001b[0m\u001b[0;34m\u001b[0m\u001b[0m\n\u001b[1;32m    100\u001b[0m   \u001b[0;34m\"\"\"Mount your Google Drive at the specified mountpoint path.\"\"\"\u001b[0m\u001b[0;34m\u001b[0m\u001b[0;34m\u001b[0m\u001b[0m\n\u001b[0;32m--> 101\u001b[0;31m   return _mount(\n\u001b[0m\u001b[1;32m    102\u001b[0m       \u001b[0mmountpoint\u001b[0m\u001b[0;34m,\u001b[0m\u001b[0;34m\u001b[0m\u001b[0;34m\u001b[0m\u001b[0m\n\u001b[1;32m    103\u001b[0m       \u001b[0mforce_remount\u001b[0m\u001b[0;34m=\u001b[0m\u001b[0mforce_remount\u001b[0m\u001b[0;34m,\u001b[0m\u001b[0;34m\u001b[0m\u001b[0;34m\u001b[0m\u001b[0m\n",
            "\u001b[0;32m/usr/local/lib/python3.8/dist-packages/google/colab/drive.py\u001b[0m in \u001b[0;36m_mount\u001b[0;34m(mountpoint, force_remount, timeout_ms, ephemeral, readonly)\u001b[0m\n\u001b[1;32m    122\u001b[0m       'TBE_EPHEM_CREDS_ADDR'] if ephemeral else _os.environ['TBE_CREDS_ADDR']\n\u001b[1;32m    123\u001b[0m   \u001b[0;32mif\u001b[0m \u001b[0mephemeral\u001b[0m\u001b[0;34m:\u001b[0m\u001b[0;34m\u001b[0m\u001b[0;34m\u001b[0m\u001b[0m\n\u001b[0;32m--> 124\u001b[0;31m     _message.blocking_request(\n\u001b[0m\u001b[1;32m    125\u001b[0m         'request_auth', request={'authType': 'dfs_ephemeral'}, timeout_sec=None)\n\u001b[1;32m    126\u001b[0m \u001b[0;34m\u001b[0m\u001b[0m\n",
            "\u001b[0;32m/usr/local/lib/python3.8/dist-packages/google/colab/_message.py\u001b[0m in \u001b[0;36mblocking_request\u001b[0;34m(request_type, request, timeout_sec, parent)\u001b[0m\n\u001b[1;32m    169\u001b[0m   request_id = send_request(\n\u001b[1;32m    170\u001b[0m       request_type, request, parent=parent, expect_reply=True)\n\u001b[0;32m--> 171\u001b[0;31m   \u001b[0;32mreturn\u001b[0m \u001b[0mread_reply_from_input\u001b[0m\u001b[0;34m(\u001b[0m\u001b[0mrequest_id\u001b[0m\u001b[0;34m,\u001b[0m \u001b[0mtimeout_sec\u001b[0m\u001b[0;34m)\u001b[0m\u001b[0;34m\u001b[0m\u001b[0;34m\u001b[0m\u001b[0m\n\u001b[0m",
            "\u001b[0;32m/usr/local/lib/python3.8/dist-packages/google/colab/_message.py\u001b[0m in \u001b[0;36mread_reply_from_input\u001b[0;34m(message_id, timeout_sec)\u001b[0m\n\u001b[1;32m    100\u001b[0m         reply.get('colab_msg_id') == message_id):\n\u001b[1;32m    101\u001b[0m       \u001b[0;32mif\u001b[0m \u001b[0;34m'error'\u001b[0m \u001b[0;32min\u001b[0m \u001b[0mreply\u001b[0m\u001b[0;34m:\u001b[0m\u001b[0;34m\u001b[0m\u001b[0;34m\u001b[0m\u001b[0m\n\u001b[0;32m--> 102\u001b[0;31m         \u001b[0;32mraise\u001b[0m \u001b[0mMessageError\u001b[0m\u001b[0;34m(\u001b[0m\u001b[0mreply\u001b[0m\u001b[0;34m[\u001b[0m\u001b[0;34m'error'\u001b[0m\u001b[0;34m]\u001b[0m\u001b[0;34m)\u001b[0m\u001b[0;34m\u001b[0m\u001b[0;34m\u001b[0m\u001b[0m\n\u001b[0m\u001b[1;32m    103\u001b[0m       \u001b[0;32mreturn\u001b[0m \u001b[0mreply\u001b[0m\u001b[0;34m.\u001b[0m\u001b[0mget\u001b[0m\u001b[0;34m(\u001b[0m\u001b[0;34m'data'\u001b[0m\u001b[0;34m,\u001b[0m \u001b[0;32mNone\u001b[0m\u001b[0;34m)\u001b[0m\u001b[0;34m\u001b[0m\u001b[0;34m\u001b[0m\u001b[0m\n\u001b[1;32m    104\u001b[0m \u001b[0;34m\u001b[0m\u001b[0m\n",
            "\u001b[0;31mMessageError\u001b[0m: Error: credential propagation was unsuccessful"
          ]
        }
      ],
      "source": [
        "from google.colab import drive\n",
        "drive.mount('/content/gdrive')"
      ]
    },
    {
      "cell_type": "code",
      "source": [
        "!pip install stop-words"
      ],
      "metadata": {
        "colab": {
          "base_uri": "https://localhost:8080/"
        },
        "id": "5N9f7BtyjnKt",
        "outputId": "a527bd26-5b93-4826-ac2e-0556fc152379"
      },
      "execution_count": null,
      "outputs": [
        {
          "output_type": "stream",
          "name": "stdout",
          "text": [
            "Looking in indexes: https://pypi.org/simple, https://us-python.pkg.dev/colab-wheels/public/simple/\n",
            "Collecting stop-words\n",
            "  Downloading stop-words-2018.7.23.tar.gz (31 kB)\n",
            "Building wheels for collected packages: stop-words\n",
            "  Building wheel for stop-words (setup.py) ... \u001b[?25l\u001b[?25hdone\n",
            "  Created wheel for stop-words: filename=stop_words-2018.7.23-py3-none-any.whl size=32910 sha256=6be12be1079ca5b3290f5c305bc978c841f1cfe594e8055ebe61abedf60f3281\n",
            "  Stored in directory: /root/.cache/pip/wheels/fb/86/b2/277b10b1ce9f73ce15059bf6975d4547cc4ec3feeb651978e9\n",
            "Successfully built stop-words\n",
            "Installing collected packages: stop-words\n",
            "Successfully installed stop-words-2018.7.23\n"
          ]
        }
      ]
    },
    {
      "cell_type": "code",
      "source": [
        "%cd /content/drive/MyDrive/CS6250"
      ],
      "metadata": {
        "colab": {
          "base_uri": "https://localhost:8080/"
        },
        "id": "OgErSZzcl1nA",
        "outputId": "00c0326a-f6f6-4b73-e895-2eff2fc728fe"
      },
      "execution_count": 3,
      "outputs": [
        {
          "output_type": "stream",
          "name": "stdout",
          "text": [
            "/content/drive/MyDrive/CS6250\n"
          ]
        }
      ]
    },
    {
      "cell_type": "code",
      "source": [
        "!python preprocessing1.py"
      ],
      "metadata": {
        "id": "3r4U1W_vl_0I",
        "colab": {
          "base_uri": "https://localhost:8080/"
        },
        "outputId": "e2009724-0079-47bd-83ec-f6154c36c574"
      },
      "execution_count": null,
      "outputs": [
        {
          "output_type": "stream",
          "name": "stdout",
          "text": [
            "Traceback (most recent call last):\n",
            "  File \"preprocessing1.py\", line 17, in <module>\n",
            "    for row in spamreader:\n",
            "  File \"/usr/lib/python3.7/codecs.py\", line 319, in decode\n",
            "    def decode(self, input, final=False):\n",
            "KeyboardInterrupt\n"
          ]
        }
      ]
    },
    {
      "cell_type": "code",
      "source": [
        "!python preprocessing2.py"
      ],
      "metadata": {
        "colab": {
          "base_uri": "https://localhost:8080/"
        },
        "id": "pw_cg2z8mCo0",
        "outputId": "766b7f53-e6a6-45ef-b633-9f0168a65a75"
      },
      "execution_count": null,
      "outputs": [
        {
          "output_type": "stream",
          "name": "stdout",
          "text": [
            "tcmalloc: large alloc 5134286848 bytes == 0x5c50a000 @  0x7ff2b05b7001 0x7ff2adf461af 0x7ff2adf9cc23 0x7ff2adf9da87 0x7ff2ae03f823 0x58f62c 0x510bf2 0x58fd37 0x510325 0x5b4ee6 0x58ff2e 0x510325 0x4bac0a 0x4d3249 0x5917ee 0x591ac9 0x539167 0x50cb08 0x5b4ee6 0x6005a3 0x607796 0x60785c 0x60a436 0x64db82 0x64dd2e 0x7ff2b01b2c87 0x5b636a\n",
            "tcmalloc: large alloc 5134286848 bytes == 0x18f328000 @  0x7ff2b05b51e7 0x7ff2adf460ce 0x7ff2adfa0726 0x7ff2adfa0b09 0x7ff2adfa2620 0x7ff2adfa2d1b 0x7ff2ae043333 0x58f62c 0x510bf2 0x5b4ee6 0x6005a3 0x607796 0x60785c 0x60a436 0x64db82 0x64dd2e 0x7ff2b01b2c87 0x5b636a\n"
          ]
        }
      ]
    },
    {
      "cell_type": "code",
      "source": [
        "!python preprocessing3.py"
      ],
      "metadata": {
        "colab": {
          "base_uri": "https://localhost:8080/"
        },
        "id": "4mINThiInzxQ",
        "outputId": "95bc3ab7-5f42-4125-e9a8-fa3833b2b819"
      },
      "execution_count": null,
      "outputs": [
        {
          "output_type": "stream",
          "name": "stdout",
          "text": [
            "tcmalloc: large alloc 5134286848 bytes == 0x1f1a2000 @  0x7f99eb4d81e7 0x7f99e8e290ce 0x7f99e8e80e57 0x7f99e8e81a6f 0x7f99e8f27c5d 0x58f795 0x510bf2 0x5b4ee6 0x58ff2e 0x50d482 0x5b4ee6 0x58ff2e 0x510325 0x5b4ee6 0x6005a3 0x607796 0x60785c 0x60a436 0x64db82 0x64dd2e 0x7f99eb0d5c87 0x5b636a\n",
            "preprocessing3.py:98: VisibleDeprecationWarning: Creating an ndarray from ragged nested sequences (which is a list-or-tuple of lists-or-tuples-or ndarrays with different lengths or shapes) is deprecated. If you meant to do this, you must specify 'dtype=object' when creating the ndarray.\n",
            "  data=np.array(data)\n"
          ]
        }
      ]
    },
    {
      "cell_type": "code",
      "source": [
        "!pip install tensorflow"
      ],
      "metadata": {
        "id": "HJhmP3VUa8ls"
      },
      "execution_count": null,
      "outputs": []
    },
    {
      "cell_type": "code",
      "source": [
        "!pip install keras"
      ],
      "metadata": {
        "colab": {
          "base_uri": "https://localhost:8080/"
        },
        "id": "7fQO-gMBfpeU",
        "outputId": "7ec40514-71bb-4f27-8b5d-6c5797031dc2"
      },
      "execution_count": null,
      "outputs": [
        {
          "output_type": "stream",
          "name": "stdout",
          "text": [
            "Looking in indexes: https://pypi.org/simple, https://us-python.pkg.dev/colab-wheels/public/simple/\n",
            "Requirement already satisfied: keras in /usr/local/lib/python3.7/dist-packages (2.9.0)\n"
          ]
        }
      ]
    },
    {
      "cell_type": "code",
      "source": [
        "!pip install h5py"
      ],
      "metadata": {
        "colab": {
          "base_uri": "https://localhost:8080/"
        },
        "id": "dpVOv0VJjzS0",
        "outputId": "4163418c-0291-4680-c281-ddd82e0ed2d3"
      },
      "execution_count": null,
      "outputs": [
        {
          "output_type": "stream",
          "name": "stdout",
          "text": [
            "Looking in indexes: https://pypi.org/simple, https://us-python.pkg.dev/colab-wheels/public/simple/\n",
            "Requirement already satisfied: h5py in /usr/local/lib/python3.7/dist-packages (3.1.0)\n",
            "Requirement already satisfied: numpy>=1.14.5 in /usr/local/lib/python3.7/dist-packages (from h5py) (1.21.6)\n",
            "Requirement already satisfied: cached-property in /usr/local/lib/python3.7/dist-packages (from h5py) (1.5.2)\n"
          ]
        }
      ]
    },
    {
      "cell_type": "code",
      "source": [
        "import numpy as np\n",
        "import tensorflow as tf\n",
        "from tensorflow import keras\n",
        "from tensorflow.keras import layers\n",
        "# from tensorflow.keras.models import Sequential\n",
        "from keras.models import Sequential, Model\n",
        "from keras.layers import Dense, Dropout, Flatten, Input, MaxPooling1D, Convolution1D, Embedding\n",
        "from keras.layers import Concatenate\n",
        "from keras.datasets import imdb\n",
        "from keras.preprocessing import sequence\n",
        "from keras import regularizers\n",
        "import joblib\n",
        "from sklearn.metrics import roc_auc_score\n",
        "import pandas as pd\n",
        "import numpy as np\n",
        "import os\n",
        "import matplotlib.pyplot as plt\n",
        "import time"
      ],
      "metadata": {
        "id": "rxdkzqaabV2c"
      },
      "execution_count": 4,
      "outputs": []
    },
    {
      "cell_type": "code",
      "source": [
        "label_to_ix=np.load('label_to_ix.npy', allow_pickle=True).item()\n",
        "ix_to_label=np.load('ix_to_label.npy', allow_pickle=True)\n",
        "training_data=np.load('training_data.npy', allow_pickle=True)\n",
        "test_data=np.load('test_data.npy', allow_pickle=True)\n",
        "val_data=np.load('val_data.npy', allow_pickle=True)\n",
        "word_to_ix=np.load('word_to_ix.npy', allow_pickle=True).item()\n",
        "ix_to_word=np.load('ix_to_word.npy', allow_pickle=True)\n",
        "newwikivec=np.load('newwikivec.npy', allow_pickle=True)\n",
        "wikivoc=np.load('wikivoc.npy', allow_pickle=True).item()\n",
        "print(len(word_to_ix))"
      ],
      "metadata": {
        "id": "QSOAb8jcgRIr",
        "colab": {
          "base_uri": "https://localhost:8080/"
        },
        "outputId": "7daa2f99-1f3a-4c63-e89a-f6b37b722d4a"
      },
      "execution_count": 5,
      "outputs": [
        {
          "output_type": "stream",
          "name": "stdout",
          "text": [
            "47960\n"
          ]
        }
      ]
    },
    {
      "cell_type": "code",
      "source": [
        "# word_to_ix=np.load('word_to_ix.npy', allow_pickle=True).item()\n",
        "# print(len(word_to_ix))\n",
        "EMBEDDING_SIZE = 100\n",
        "hidden_dim=500\n",
        "maxlen = 200\n",
        "MAX_SEQ_LENGTH = 12173\n",
        "MAX_VOCAB = len(word_to_ix)\n",
        "num_classes = len(label_to_ix)\n",
        "\n",
        "# ix_to_word=np.load('ix_to_word.npy', allow_pickle=True)\n",
        "# newwikivec=np.load('newwikivec.npy', allow_pickle=True)\n",
        "# wikivoc=np.load('wikivoc.npy', allow_pickle=True).item()"
      ],
      "metadata": {
        "id": "G6ETi1TgfnUt"
      },
      "execution_count": 6,
      "outputs": []
    },
    {
      "cell_type": "markdown",
      "source": [
        "# LSTM Base Model - With optional wiki data"
      ],
      "metadata": {
        "id": "U4gJ_4Ssw4Px"
      }
    },
    {
      "cell_type": "code",
      "source": [
        "import keras.backend as K\n",
        "from keras.layers import Layer\n",
        "\n",
        "# class KSIModel(keras.Model):\n",
        "#     def train_step(self, data):\n",
        "#         # Unpack the data. Its structure depends on your model and\n",
        "#         # on what you pass to `fit()`.\n",
        "#         x, y = data\n",
        "\n",
        "#         with tf.GradientTape() as tape:\n",
        "#             y_pred = self(x, training=True)  # Forward pass\n",
        "#             # Compute the loss value\n",
        "#             # (the loss function is configured in `compile()`)\n",
        "#             loss = self.compiled_loss(y, y_pred, regularization_losses=self.losses)\n",
        "\n",
        "#         # Compute gradients\n",
        "#         trainable_vars = self.trainable_variables\n",
        "#         gradients = tape.gradient(loss, trainable_vars)\n",
        "#         # Update weights\n",
        "#         self.optimizer.apply_gradients(zip(gradients, trainable_vars))\n",
        "#         # Update metrics (includes the metric that tracks the loss)\n",
        "#         self.compiled_metrics.update_state(y, y_pred)\n",
        "#         # Return a dict mapping metric names to current value\n",
        "#         return {m.name: m.result() for m in self.metrics}\n",
        "\n",
        "class KSI(keras.layers.Layer):\n",
        "    def __init__(self):\n",
        "        super(KSI, self).__init__()\n",
        "    def __init__(self, name=None, **kwargs):\n",
        "        super(KSI, self).__init__(name=name)\n",
        "        super(KSI, self).__init__(**kwargs)    \n",
        "\n",
        "    def get_config(self):\n",
        "        config = super(KSI, self).get_config()\n",
        "        return config            \n",
        "\n",
        "    def build(self,input_shape):\n",
        "        # print(\"inputs shape\")\n",
        "        # print(input_shape)\n",
        "        pass\n",
        "\n",
        "    def call(self, inputs):\n",
        "        # print(\"inputs shape \" + inputs.shape)\n",
        "        wiki = newwikivec\n",
        "\n",
        "        notes_input1 = keras.layers.Reshape((1, -1))(inputs)\n",
        "        notes_input2 = tf.repeat(notes_input1, repeats=[wiki.shape[0]], axis=1)\n",
        "        \n",
        "        wiki=wiki.reshape(1,wiki.shape[0], wiki.shape[1])\n",
        "        \n",
        "        # list = inputs.get_shape().as_list()\n",
        "        # no_of_repeats = list[0]\n",
        "        # wiki=tf.repeat(wiki, repeats=no_of_repeats, axis=0)\n",
        "\n",
        "        # shape = K.shape(inputs)\n",
        "        # print(\"printing k.shape\")\n",
        "        # print(shape[0])\n",
        "        # print(shape[1])\n",
        "\n",
        "        # a = Input(shape=(10, 5))\n",
        "        batch_size = K.shape(inputs)[0]\n",
        "        # constant = K.variable(np.ones((1,10, 5)))\n",
        "        # print(wiki.shape)\n",
        "        # print(batch_size)\n",
        "        constant = K.tile(wiki, (batch_size, 1, 1))\n",
        "        # print(constant.shape)        \n",
        "        # pool_shape = tf.pack([shape[0], ...])  # Here you can mix integers and symbolic elements of `shape`\n",
        "        # input_reshaped = K.reshape(x, pool_shape)\n",
        "        \n",
        "        # wiki_input = K.variable(wiki)\n",
        "        wiki_input = constant\n",
        "        new = multiply([notes_input2, wiki_input])\n",
        "        new1 = layers.Dense(EMBEDDING_SIZE)(new)\n",
        "        attention_layer = Dense(EMBEDDING_SIZE)(new1)\n",
        "        vattention = tf.keras.activations.sigmoid(attention_layer)\n",
        "        multiplied1 = multiply([vattention, new1])\n",
        "        output = layers.Dense(1, activation=None)(multiplied1)\n",
        "        output1 = keras.layers.Reshape((num_classes,))(output)\n",
        "        return output1\n",
        "\n"
      ],
      "metadata": {
        "id": "SQEinCISlv1u"
      },
      "execution_count": 25,
      "outputs": []
    },
    {
      "cell_type": "code",
      "source": [
        "# Create the model:\n",
        "from keras import backend as K\n",
        "from keras.layers import multiply\n",
        "\n",
        "# EMBEDDING_SIZE = 100\n",
        "# hidden_dim=500\n",
        "# maxlen = 200\n",
        "# MAX_SEQ_LENGTH = 12173\n",
        "# MAX_VOCAB = len(word_to_ix)\n",
        "# num_classes = len(label_to_ix)\n",
        "# batch_size=64\n",
        "\n",
        "def build_lstm_model(input_length, embedding_size, max_vocab, num_filters, filter_sizes, training_dropout_keep_prob, num_classes, use_wiki=False):\n",
        "  model_input = Input(shape=input_length)\n",
        "  model = keras.models.Sequential()\n",
        "  model.add(Embedding(max_vocab + 1, embedding_size, input_length=input_length, embeddings_regularizer=regularizers.l2(0.0001),name=\"embedding\"))\n",
        "  model.add(layers.LSTM(64, dropout=0.1))\n",
        "  model.add(layers.Dense(num_classes, activation=\"sigmoid\"))\n",
        "  model.summary()\n",
        "  # loss = keras.losses.BinaryCrossentropy(from_logits=False)\n",
        "  # optim = keras.optimizers.Adam(learning_rate=0.001)\n",
        "  # metrics = [\"accuracy\"]\n",
        "  # model.compile(loss=loss, optimizer=optim, metrics=metrics)  \n",
        "  return model\n",
        "def build_attention_model(wiki, input_length, embedding_size, max_vocab, num_filters, filter_sizes, training_dropout_keep_prob, num_classes):\n",
        "\n",
        "  notes_input = Input(shape=(None,), name=\"notes\") \n",
        "  # notes_input1 = keras.layers.Reshape((1, -1))(notes_input)\n",
        "  # notes_input2 = tf.repeat(notes_input1, repeats=[wiki.shape[0]], axis=1)\n",
        "  # wiki=wiki.reshape(1,wiki.shape[0], wiki.shape[1])\n",
        "  # ## no_of_repeats = batch_size \n",
        "  # ## list = notes_input2.get_shape().as_list()\n",
        "  # ## print(list)\n",
        "  # ## if list[0] is not None:\n",
        "  # ##   no_of_repeats = list[0]\n",
        "  # ## wiki=tf.repeat(wiki, repeats=None, axis=0)\n",
        "  # batch_size = K.shape(notes_input)[0]\n",
        "  # wiki_input = K.tile(wiki, (batch_size, 1, 1))\n",
        "\n",
        "  # ## wiki_input = K.variable(wiki)\n",
        "  # new = multiply([notes_input2, wiki_input])\n",
        "  # new1 = layers.Dense(EMBEDDING_SIZE)(new)\n",
        "  # attention_layer = Dense(EMBEDDING_SIZE)(new1)\n",
        "  # vattention = tf.keras.activations.sigmoid(attention_layer)\n",
        "  # multiplied1 = multiply([vattention, new1])\n",
        "  # output = layers.Dense(1, activation=None)(multiplied1)\n",
        "  # output1 = keras.layers.Reshape((num_classes,))(output)\n",
        "\n",
        "  output1 = KSI()(notes_input)\n",
        "\n",
        "  model = keras.Model(\n",
        "    inputs=[notes_input],\n",
        "    outputs=[output1], name=\"KSI\"\n",
        "  )\n",
        "  return model  "
      ],
      "metadata": {
        "id": "oisFNm6mf-_k"
      },
      "execution_count": 8,
      "outputs": []
    },
    {
      "cell_type": "code",
      "source": [
        "# cnn_model = build_cnn_model(input_length=MAX_SEQ_LENGTH, embedding_size=EMBEDDING_SIZE, max_vocab = MAX_VOCAB, num_filters = 100, filter_sizes=[2,3,4,5],\n",
        "#                              training_dropout_keep_prob=0.5, num_classes = num_classes)\n",
        "# print(cnn_model.summary())\n",
        "lstm_model1 = build_lstm_model(input_length=MAX_SEQ_LENGTH, embedding_size=EMBEDDING_SIZE, max_vocab = MAX_VOCAB, num_filters = 100, filter_sizes=[2,3,4,5],\n",
        "                             training_dropout_keep_prob=0.5, num_classes = num_classes)\n",
        "attention_model = build_attention_model(newwikivec, input_length=MAX_SEQ_LENGTH, embedding_size=EMBEDDING_SIZE, max_vocab = MAX_VOCAB, num_filters = 100, filter_sizes=[2,3,4,5],\n",
        "                             training_dropout_keep_prob=0.5, num_classes = num_classes)\n",
        "print(\"lstm model output shape\")\n",
        "print(lstm_model1.output.shape)\n",
        "\n",
        "print(\"attn model output shape\")\n",
        "print(attention_model.output.shape)\n",
        "\n",
        "mergedOut = tf.keras.layers.Add()([lstm_model1.output, attention_model.output])\n",
        "\n",
        "lstm_model = Model([lstm_model1.input,attention_model.input], mergedOut)\n",
        "loss = keras.losses.BinaryCrossentropy(from_logits=False)\n",
        "optim = keras.optimizers.Adam(learning_rate=0.001)\n",
        "metrics = [\"accuracy\"]\n",
        "lstm_model.compile(loss=loss, optimizer=optim, metrics=metrics)  \n",
        "\n",
        "print(lstm_model.summary())"
      ],
      "metadata": {
        "colab": {
          "base_uri": "https://localhost:8080/"
        },
        "id": "Zl27LYIHk7a8",
        "outputId": "b2c03ea9-ce57-46b3-fc47-862090c503bd"
      },
      "execution_count": 9,
      "outputs": [
        {
          "output_type": "stream",
          "name": "stdout",
          "text": [
            "Model: \"sequential\"\n",
            "_________________________________________________________________\n",
            " Layer (type)                Output Shape              Param #   \n",
            "=================================================================\n",
            " embedding (Embedding)       (None, 12173, 100)        4796100   \n",
            "                                                                 \n",
            " lstm (LSTM)                 (None, 64)                42240     \n",
            "                                                                 \n",
            " dense (Dense)               (None, 344)               22360     \n",
            "                                                                 \n",
            "=================================================================\n",
            "Total params: 4,860,700\n",
            "Trainable params: 4,860,700\n",
            "Non-trainable params: 0\n",
            "_________________________________________________________________\n",
            "lstm model output shape\n",
            "(None, 344)\n",
            "attn model output shape\n",
            "(None, 344)\n",
            "Model: \"model\"\n",
            "__________________________________________________________________________________________________\n",
            " Layer (type)                   Output Shape         Param #     Connected to                     \n",
            "==================================================================================================\n",
            " embedding_input (InputLayer)   [(None, 12173)]      0           []                               \n",
            "                                                                                                  \n",
            " embedding (Embedding)          (None, 12173, 100)   4796100     ['embedding_input[0][0]']        \n",
            "                                                                                                  \n",
            " lstm (LSTM)                    (None, 64)           42240       ['embedding[0][0]']              \n",
            "                                                                                                  \n",
            " notes (InputLayer)             [(None, None)]       0           []                               \n",
            "                                                                                                  \n",
            " dense (Dense)                  (None, 344)          22360       ['lstm[0][0]']                   \n",
            "                                                                                                  \n",
            " ksi (KSI)                      (None, 344)          0           ['notes[0][0]']                  \n",
            "                                                                                                  \n",
            " add (Add)                      (None, 344)          0           ['dense[0][0]',                  \n",
            "                                                                  'ksi[0][0]']                    \n",
            "                                                                                                  \n",
            "==================================================================================================\n",
            "Total params: 4,860,700\n",
            "Trainable params: 4,860,700\n",
            "Non-trainable params: 0\n",
            "__________________________________________________________________________________________________\n",
            "None\n"
          ]
        }
      ]
    },
    {
      "cell_type": "code",
      "source": [
        "from keras.utils import plot_model\n",
        "from IPython.display import Image\n",
        "plot_model(lstm_model,'lstm_base.png')\n",
        "Image('lstm_base.png')"
      ],
      "metadata": {
        "colab": {
          "base_uri": "https://localhost:8080/",
          "height": 466
        },
        "id": "gClQuAmYeRj6",
        "outputId": "0cba618b-1b33-4827-da25-bd62b1e4cb6f"
      },
      "execution_count": 10,
      "outputs": [
        {
          "output_type": "execute_result",
          "data": {
            "image/png": "[encoded data removed]",
            "text/plain": [
              "<IPython.core.display.Image object>"
            ]
          },
          "metadata": {},
          "execution_count": 10
        }
      ]
    },
    {
      "cell_type": "code",
      "source": [
        "count = [len(x[0]) for x in training_data]"
      ],
      "metadata": {
        "id": "Uc5SoFJbpkWz"
      },
      "execution_count": 11,
      "outputs": []
    },
    {
      "cell_type": "code",
      "source": [
        "min(count), max(count), np.mean(count), np.median(count)"
      ],
      "metadata": {
        "colab": {
          "base_uri": "https://localhost:8080/"
        },
        "id": "okqjQs7Up0Li",
        "outputId": "72e2cb67-9b61-4ef0-cbb2-ca18a671cdc3"
      },
      "execution_count": 12,
      "outputs": [
        {
          "output_type": "execute_result",
          "data": {
            "text/plain": [
              "(36, 5285, 1023.7772870149578, 937.0)"
            ]
          },
          "metadata": {},
          "execution_count": 12
        }
      ]
    },
    {
      "cell_type": "code",
      "source": [
        "def get_data(input_data):\n",
        "  # training_data is of the form (list of list of words, notes, y )\n",
        "  #training_data[0]\n",
        "  #array([list(['admission', 'date', 'discharge', 'date', 'date', \n",
        "  #array([1., 1., 1., ..., 0., 0., 0.]),\n",
        "       #list(['d_427', 'd_423', 'd_458', 'd_401', 'd_272', 'd_250', 'd_424'])],\n",
        "  x_data =  [[word_to_ix[x] for x in record[0] if x in word_to_ix] for record in input_data]\n",
        "  x_data = tf.keras.utils.pad_sequences(x_data, maxlen=MAX_SEQ_LENGTH, padding=\"post\")\n",
        "  y_data = [[label_to_ix[x] for x in record[2] if x in label_to_ix] for record in input_data]\n",
        "  ylabel_count = np.array([len(item) for item in y_data])\n",
        "  arg_zero = np.argwhere(ylabel_count == 0)\n",
        "  y_data = [y_data[i] for i in range(len(y_data)) if i not in arg_zero]\n",
        "  x_data = [x_data[i] for i in range(len(x_data)) if i not in arg_zero]\n",
        "  x_data = np.array(x_data)\n",
        "  for idx, item in enumerate(y_data):\n",
        "    y = np.zeros(len(label_to_ix),)\n",
        "    y[item] = 1\n",
        "    y_data[idx] = y\n",
        "  y_data = np.array(y_data)\n",
        "  return x_data, y_data"
      ],
      "metadata": {
        "id": "QKFRCopwC9Cn"
      },
      "execution_count": 13,
      "outputs": []
    },
    {
      "cell_type": "code",
      "source": [
        "train_x, train_y = get_data(training_data)"
      ],
      "metadata": {
        "id": "TDeELfOuHUxU"
      },
      "execution_count": 14,
      "outputs": []
    },
    {
      "cell_type": "code",
      "source": [
        "train_y.shape, train_x.shape\n",
        "# ((34898, 344), (34898, 100))"
      ],
      "metadata": {
        "colab": {
          "base_uri": "https://localhost:8080/"
        },
        "id": "SnK99Or-zr_0",
        "outputId": "d46a5ace-710e-4f5c-c3de-4d7a0d406292"
      },
      "execution_count": 15,
      "outputs": [
        {
          "output_type": "execute_result",
          "data": {
            "text/plain": [
              "((34898, 344), (34898, 12173))"
            ]
          },
          "metadata": {},
          "execution_count": 15
        }
      ]
    },
    {
      "cell_type": "code",
      "source": [
        "val_x, val_y = get_data(val_data)\n",
        "test_x, test_y = get_data(test_data)"
      ],
      "metadata": {
        "id": "JwF7Suu7OEXL"
      },
      "execution_count": 37,
      "outputs": []
    },
    {
      "cell_type": "code",
      "source": [
        "val_y.shape, val_x.shape, test_y.shape, test_x.shape"
      ],
      "metadata": {
        "colab": {
          "base_uri": "https://localhost:8080/"
        },
        "id": "7aeb2C0jOmDv",
        "outputId": "efc55ff2-209a-417c-ec12-a252d267e54f"
      },
      "execution_count": 38,
      "outputs": [
        {
          "output_type": "execute_result",
          "data": {
            "text/plain": [
              "((5022, 344), (5022, 12173), (9985, 344), (9985, 12173))"
            ]
          },
          "metadata": {},
          "execution_count": 38
        }
      ]
    },
    {
      "cell_type": "code",
      "source": [
        "def train_lstm_model(train_x, train_y, val_x, val_y, batch_size=32, epochs=20):\n",
        "  tf.config.run_functions_eagerly(True) # https://stackoverflow.com/questions/58352326/running-the-tensorflow-2-0-code-gives-valueerror-tf-function-decorated-functio\n",
        "  lstm_model.fit([train_x, train_x], train_y, validation_data=([val_x, val_x], val_y), batch_size=batch_size, epochs=epochs, verbose=2)\n",
        "  # save model\n",
        "  lstm_model.save('lstm_20_epochs_attn1.h5')"
      ],
      "metadata": {
        "id": "YdDqW_b607yH"
      },
      "execution_count": 18,
      "outputs": []
    },
    {
      "cell_type": "code",
      "source": [
        "import os\n",
        "path='lstm_20_epochs_attn1.h5'\n",
        "isExist = os.path.exists(path)\n",
        "isExist"
      ],
      "metadata": {
        "colab": {
          "base_uri": "https://localhost:8080/"
        },
        "id": "-t_Fuk6SJLtw",
        "outputId": "73c7154e-5ebc-4610-98fd-f47c297e9b55"
      },
      "execution_count": 21,
      "outputs": [
        {
          "output_type": "execute_result",
          "data": {
            "text/plain": [
              "True"
            ]
          },
          "metadata": {},
          "execution_count": 21
        }
      ]
    },
    {
      "cell_type": "code",
      "source": [
        "from keras.models import load_model\n",
        "if not isExist:\n",
        "  train_lstm_model(train_x, train_y, val_x, val_y, batch_size=64, epochs=20)\n",
        "\n",
        "model = load_model('lstm_20_epochs_attn1.h5', custom_objects={\"KSI\": KSI})\n"
      ],
      "metadata": {
        "id": "rpPkfh8yJYxy"
      },
      "execution_count": 26,
      "outputs": []
    },
    {
      "cell_type": "code",
      "source": [
        "#prediction for training data\n",
        "pred_train = model.predict([train_x, train_x], batch_size=50)\n",
        "pred_train"
      ],
      "metadata": {
        "colab": {
          "base_uri": "https://localhost:8080/"
        },
        "id": "LV7qwd6fWsSB",
        "outputId": "b7f5fcca-3b6c-4172-a1b0-c3e7a82d2acb"
      },
      "execution_count": 27,
      "outputs": [
        {
          "output_type": "stream",
          "name": "stderr",
          "text": [
            "/usr/local/lib/python3.8/dist-packages/tensorflow/python/data/ops/structured_function.py:264: UserWarning: Even though the `tf.config.experimental_run_functions_eagerly` option is set, this option does not apply to tf.data functions. To force eager execution of tf.data functions, please use `tf.data.experimental.enable_debug_mode()`.\n",
            "  warnings.warn(\n"
          ]
        },
        {
          "output_type": "stream",
          "name": "stdout",
          "text": [
            "698/698 [==============================] - 164s 235ms/step\n"
          ]
        },
        {
          "output_type": "execute_result",
          "data": {
            "text/plain": [
              "array([[  -72.35643  ,   -13.224892 ,    14.515126 , ...,    -1.7645541,\n",
              "          -49.0138   ,   -38.351387 ],\n",
              "       [ -249.56377  ,   -31.04177  ,  -103.64335  , ...,  -112.25918  ,\n",
              "         -173.41917  ,  -109.94698  ],\n",
              "       [   26.088898 ,   -23.694963 ,   -12.343065 , ...,    76.64265  ,\n",
              "          -77.86034  ,  -128.44875  ],\n",
              "       ...,\n",
              "       [-1120.7474   ,  1611.3993   , -1760.3197   , ...,  -719.98816  ,\n",
              "         -256.54007  ,  -387.2008   ],\n",
              "       [ -484.3089   ,    45.726295 ,    18.69176  , ...,   115.26921  ,\n",
              "         -461.7434   ,   185.13025  ],\n",
              "       [ -600.1836   ,   641.6994   ,  1127.2299   , ...,  1268.9268   ,\n",
              "          100.75515  ,   -21.28305  ]], dtype=float32)"
            ]
          },
          "metadata": {},
          "execution_count": 27
        }
      ]
    },
    {
      "cell_type": "code",
      "source": [
        "#prediction for validation data\n",
        "pred_val = model.predict([val_x, val_x], batch_size=100)\n",
        "pred_val"
      ],
      "metadata": {
        "colab": {
          "base_uri": "https://localhost:8080/"
        },
        "id": "LejUsHpeeHnc",
        "outputId": "64efe026-eb41-4f2d-b108-44a80d7994e0"
      },
      "execution_count": 29,
      "outputs": [
        {
          "output_type": "stream",
          "name": "stderr",
          "text": [
            "/usr/local/lib/python3.8/dist-packages/tensorflow/python/data/ops/structured_function.py:264: UserWarning: Even though the `tf.config.experimental_run_functions_eagerly` option is set, this option does not apply to tf.data functions. To force eager execution of tf.data functions, please use `tf.data.experimental.enable_debug_mode()`.\n",
            "  warnings.warn(\n"
          ]
        },
        {
          "output_type": "stream",
          "name": "stdout",
          "text": [
            "51/51 [==============================] - 16s 306ms/step\n"
          ]
        },
        {
          "output_type": "execute_result",
          "data": {
            "text/plain": [
              "array([[ -295.8833  ,   235.60309 ,  -413.63422 , ...,  -659.50085 ,\n",
              "         -906.8581  , -1646.4597  ],\n",
              "       [ 2472.8235  ,  -698.4535  ,  -641.7065  , ..., -1135.6082  ,\n",
              "         -914.6792  ,  -520.92456 ],\n",
              "       [ 1185.4603  ,    44.747066,  -349.91232 , ...,  -923.78326 ,\n",
              "         -826.4393  ,   -47.07787 ],\n",
              "       ...,\n",
              "       [  878.28906 ,   238.21574 ,  -272.98016 , ...,  -272.93076 ,\n",
              "         -988.649   ,  -416.60928 ],\n",
              "       [ 1452.1742  ,  -885.7985  ,  -706.04083 , ...,  -448.4215  ,\n",
              "         -231.63599 ,    88.36158 ],\n",
              "       [ -281.643   ,   233.5226  ,  -170.00453 , ...,  -716.1015  ,\n",
              "         -264.37457 ,   621.8988  ]], dtype=float32)"
            ]
          },
          "metadata": {},
          "execution_count": 29
        }
      ]
    },
    {
      "cell_type": "code",
      "source": [
        "val_y.shape, pred_val.shape"
      ],
      "metadata": {
        "colab": {
          "base_uri": "https://localhost:8080/"
        },
        "id": "H9M3xH8VeOf7",
        "outputId": "5430508f-9faf-4eab-e08c-638ec49d6099"
      },
      "execution_count": 30,
      "outputs": [
        {
          "output_type": "execute_result",
          "data": {
            "text/plain": [
              "((5022, 344), (5022, 344))"
            ]
          },
          "metadata": {},
          "execution_count": 30
        }
      ]
    },
    {
      "cell_type": "code",
      "source": [
        "from sklearn.metrics import f1_score, roc_auc_score\n",
        "def get_f1_score(y_actual, pred_val):\n",
        "  y_final = np.where(np.array(pred_val) > 0.005, 1, 0)\n",
        "  f1score_macro = f1_score(np.array(y_actual), y_final, average=\"macro\")\n",
        "  print(f\"f1score_macro = {f1score_macro}\")\n",
        "  f1score_micro = f1_score(np.array(y_actual), y_final, average=\"micro\")\n",
        "  print(f\"f1score_micro = {f1score_micro}\")\n",
        "  return f1score_macro, f1score_micro\n"
      ],
      "metadata": {
        "id": "PLktIN4KXTqn"
      },
      "execution_count": 31,
      "outputs": []
    },
    {
      "cell_type": "code",
      "source": [
        "# f1score_micro = f1_score(np.array(train_y), y_final, average=\"micro\")\n",
        "# f1score_micro"
      ],
      "metadata": {
        "id": "7XjRr3HTYM6q"
      },
      "execution_count": 32,
      "outputs": []
    },
    {
      "cell_type": "code",
      "source": [
        "#prediction for test data\n",
        "pred_test = model.predict([test_x, test_x], batch_size=100)\n",
        "pred_test"
      ],
      "metadata": {
        "colab": {
          "base_uri": "https://localhost:8080/"
        },
        "id": "1w2itf_7WBiT",
        "outputId": "5077e21b-b4ea-492f-8c24-fadc3909a8df"
      },
      "execution_count": 40,
      "outputs": [
        {
          "output_type": "stream",
          "name": "stderr",
          "text": [
            "/usr/local/lib/python3.8/dist-packages/tensorflow/python/data/ops/structured_function.py:264: UserWarning: Even though the `tf.config.experimental_run_functions_eagerly` option is set, this option does not apply to tf.data functions. To force eager execution of tf.data functions, please use `tf.data.experimental.enable_debug_mode()`.\n",
            "  warnings.warn(\n"
          ]
        },
        {
          "output_type": "stream",
          "name": "stdout",
          "text": [
            "100/100 [==============================] - 31s 311ms/step\n"
          ]
        },
        {
          "output_type": "execute_result",
          "data": {
            "text/plain": [
              "array([[-1747.9214   ,  1990.6636   ,  1071.0496   , ...,   165.39014  ,\n",
              "         -680.9455   ,    85.70825  ],\n",
              "       [ 3071.1453   ,  1875.661    ,  1872.3832   , ...,   880.8743   ,\n",
              "          497.88504  ,  1349.9421   ],\n",
              "       [  887.0019   ,    -7.3701024,   568.3991   , ...,   188.12018  ,\n",
              "         1035.6218   ,  1090.9043   ],\n",
              "       ...,\n",
              "       [ -365.0593   ,  1311.3204   ,  1093.863    , ...,   184.61406  ,\n",
              "           79.87815  ,   821.69794  ],\n",
              "       [ -244.46619  ,  -391.1204   ,  -222.20425  , ...,   778.62555  ,\n",
              "         -582.7086   , -1155.0293   ],\n",
              "       [ -644.641    ,   192.68448  , -1842.2162   , ...,  -947.6394   ,\n",
              "         -493.26358  , -1811.7106   ]], dtype=float32)"
            ]
          },
          "metadata": {},
          "execution_count": 40
        }
      ]
    },
    {
      "cell_type": "code",
      "source": [
        "f1score_macro, f1score_micro = get_f1_score(val_y, pred_val)\n",
        "f1score_macro, f1score_micro"
      ],
      "metadata": {
        "colab": {
          "base_uri": "https://localhost:8080/"
        },
        "id": "ZFNDZFIhdkFL",
        "outputId": "95991757-323a-4c20-ba36-62a087d6ae95"
      },
      "execution_count": 41,
      "outputs": [
        {
          "output_type": "stream",
          "name": "stdout",
          "text": [
            "f1score_macro = 0.02618712990877349\n",
            "f1score_micro = 0.03228908246136585\n"
          ]
        },
        {
          "output_type": "execute_result",
          "data": {
            "text/plain": [
              "(0.02618712990877349, 0.03228908246136585)"
            ]
          },
          "metadata": {},
          "execution_count": 41
        }
      ]
    },
    {
      "cell_type": "code",
      "source": [
        "f1score_test_macro, f1score_test_micro = get_f1_score(test_y, pred_test)\n",
        "f1score_test_macro, f1score_test_micro"
      ],
      "metadata": {
        "colab": {
          "base_uri": "https://localhost:8080/"
        },
        "id": "Jg74W7Ploj6p",
        "outputId": "796cff96-0120-445f-a2f5-2f393be018ca"
      },
      "execution_count": 42,
      "outputs": [
        {
          "output_type": "stream",
          "name": "stdout",
          "text": [
            "f1score_macro = 0.026584815586941587\n",
            "f1score_micro = 0.032189539778965895\n"
          ]
        },
        {
          "output_type": "execute_result",
          "data": {
            "text/plain": [
              "(0.026584815586941587, 0.032189539778965895)"
            ]
          },
          "metadata": {},
          "execution_count": 42
        }
      ]
    },
    {
      "cell_type": "code",
      "source": [
        "y_final = np.where(np.array(pred_val) > 0.005, 1, 0)\n",
        "print(len(np.unique(y_final)))\n",
        "print(len(np.unique(val_y)))\n",
        "# auc_macro = roc_auc_score(val_y, y_final, average=\"macro\", multi_class=\"ovo\")\n",
        "# print(f\"auc_macro = {auc_macro}\")\n",
        "auc_micro = roc_auc_score(val_y, y_final, average=\"micro\")\n",
        "print(f\"auc_micro = {auc_micro}\")"
      ],
      "metadata": {
        "colab": {
          "base_uri": "https://localhost:8080/"
        },
        "id": "m3Hk4FMvf7WF",
        "outputId": "d4784946-ce20-4b84-cc96-c76706291c3b"
      },
      "execution_count": 43,
      "outputs": [
        {
          "output_type": "stream",
          "name": "stdout",
          "text": [
            "2\n",
            "2\n",
            "auc_micro = 0.503117431809168\n"
          ]
        }
      ]
    },
    {
      "cell_type": "code",
      "source": [
        "y_final_test = np.where(np.array(pred_test) > 0.005, 1, 0)\n",
        "print(len(np.unique(y_final_test)))\n",
        "print(len(np.unique(test_y)))\n",
        "# auc_macro = roc_auc_score(test_y, y_final_test, average=\"macro\", multi_class=\"ovo\")\n",
        "# print(f\"auc_macro = {auc_macro}\")\n",
        "auc_micro = roc_auc_score(test_y, y_final_test, average=\"micro\")\n",
        "print(f\"auc_micro = {auc_micro}\")"
      ],
      "metadata": {
        "colab": {
          "base_uri": "https://localhost:8080/"
        },
        "id": "TKqqCBTcYhNq",
        "outputId": "ba78512f-03b2-4b4e-a202-f2d8c01b8125"
      },
      "execution_count": 44,
      "outputs": [
        {
          "output_type": "stream",
          "name": "stdout",
          "text": [
            "2\n",
            "2\n",
            "auc_micro = 0.4991078937087122\n"
          ]
        }
      ]
    },
    {
      "cell_type": "markdown",
      "source": [
        "# Models from Original Paper"
      ],
      "metadata": {
        "id": "9I5d6ogBxH0Y"
      }
    },
    {
      "cell_type": "code",
      "source": [
        "!python KSI_CNN.py"
      ],
      "metadata": {
        "id": "Yz_saJK6oX3e",
        "colab": {
          "base_uri": "https://localhost:8080/"
        },
        "outputId": "dd8240e6-82e2-4382-e3d8-612c57161043"
      },
      "execution_count": null,
      "outputs": [
        {
          "output_type": "stream",
          "name": "stdout",
          "text": [
            "KSI_CNN.py:43: VisibleDeprecationWarning: Creating an ndarray from ragged nested sequences (which is a list-or-tuple of lists-or-tuples-or ndarrays with different lengths or shapes) is deprecated. If you meant to do this, you must specify 'dtype=object' when creating the ndarray.\n",
            "  new_data=np.array(new_data)\n",
            "KSI_CNN.py:57: DeprecationWarning: `np.int` is a deprecated alias for the builtin `int`. To silence this warning, use `int` by itself. Doing this will not modify any behavior and is safe. When replacing `np.int`, you may wish to use e.g. `np.int64` or `np.int32` to specify the precision. If you wish to review your current use, check the release note link for additional information.\n",
            "Deprecated in NumPy 1.20; for more details and guidance: https://numpy.org/devdocs/release/1.20.0-notes.html#deprecations\n",
            "  main_matrix = np.zeros((mybsize, numword), dtype= np.int)\n",
            "start_training\n",
            "0\n",
            "XXXXXXXXXXXXXXXXXXXXXXXXXXXX\n",
            "validation top- 10 0.447759546015512\n",
            "1\n",
            "XXXXXXXXXXXXXXXXXXXXXXXXXXXX\n",
            "validation top- 10 0.5463922233608504\n",
            "2\n",
            "XXXXXXXXXXXXXXXXXXXXXXXXXXXX\n",
            "validation top- 10 0.5869477961874576\n",
            "3\n",
            "XXXXXXXXXXXXXXXXXXXXXXXXXXXX\n",
            "validation top- 10 0.6122995587404496\n",
            "4\n",
            "XXXXXXXXXXXXXXXXXXXXXXXXXXXX\n",
            "validation top- 10 0.6422864593906304\n",
            "5\n",
            "XXXXXXXXXXXXXXXXXXXXXXXXXXXX\n",
            "validation top- 10 0.6617816478566985\n",
            "6\n",
            "XXXXXXXXXXXXXXXXXXXXXXXXXXXX\n",
            "validation top- 10 0.6757633827794965\n",
            "7\n",
            "XXXXXXXXXXXXXXXXXXXXXXXXXXXX\n",
            "validation top- 10 0.6923966392728145\n",
            "8\n",
            "XXXXXXXXXXXXXXXXXXXXXXXXXXXX\n",
            "validation top- 10 0.7061567372641866\n",
            "9\n",
            "XXXXXXXXXXXXXXXXXXXXXXXXXXXX\n",
            "validation top- 10 0.7151707140469439\n",
            "10\n",
            "XXXXXXXXXXXXXXXXXXXXXXXXXXXX\n",
            "validation top- 10 0.7210076915653125\n",
            "11\n",
            "XXXXXXXXXXXXXXXXXXXXXXXXXXXX\n",
            "validation top- 10 0.7297049877302053\n",
            "12\n",
            "XXXXXXXXXXXXXXXXXXXXXXXXXXXX\n",
            "validation top- 10 0.7331820806872247\n",
            "13\n",
            "XXXXXXXXXXXXXXXXXXXXXXXXXXXX\n",
            "validation top- 10 0.7365242396154984\n",
            "14\n",
            "XXXXXXXXXXXXXXXXXXXXXXXXXXXX\n",
            "validation top- 10 0.7438993480615125\n",
            "15\n",
            "XXXXXXXXXXXXXXXXXXXXXXXXXXXX\n",
            "validation top- 10 0.7454819630849553\n",
            "16\n",
            "XXXXXXXXXXXXXXXXXXXXXXXXXXXX\n",
            "validation top- 10 0.7461523181315273\n",
            "17\n",
            "XXXXXXXXXXXXXXXXXXXXXXXXXXXX\n",
            "validation top- 10 0.7476686868566037\n",
            "18\n",
            "XXXXXXXXXXXXXXXXXXXXXXXXXXXX\n",
            "validation top- 10 0.7499788258537549\n",
            "19\n",
            "XXXXXXXXXXXXXXXXXXXXXXXXXXXX\n",
            "validation top- 10 0.7536500680597897\n",
            "20\n",
            "XXXXXXXXXXXXXXXXXXXXXXXXXXXX\n",
            "validation top- 10 0.7548689356360647\n",
            "21\n",
            "XXXXXXXXXXXXXXXXXXXXXXXXXXXX\n",
            "validation top- 10 0.7559340685346785\n",
            "22\n",
            "XXXXXXXXXXXXXXXXXXXXXXXXXXXX\n",
            "validation top- 10 0.7571428727644128\n",
            "23\n",
            "XXXXXXXXXXXXXXXXXXXXXXXXXXXX\n",
            "validation top- 10 0.7577222458278956\n",
            "24\n",
            "XXXXXXXXXXXXXXXXXXXXXXXXXXXX\n",
            "validation top- 10 0.755937462559222\n",
            "25\n",
            "XXXXXXXXXXXXXXXXXXXXXXXXXXXX\n",
            "validation top- 10 0.7575183804216735\n",
            "26\n",
            "XXXXXXXXXXXXXXXXXXXXXXXXXXXX\n",
            "validation top- 10 0.7567200712804484\n",
            "27\n",
            "XXXXXXXXXXXXXXXXXXXXXXXXXXXX\n",
            "validation top- 10 0.7556417372362435\n",
            "28\n",
            "XXXXXXXXXXXXXXXXXXXXXXXXXXXX\n",
            "validation top- 10 0.7561210822650272\n",
            "[0.447759546015512, 0.5463922233608504, 0.5869477961874576, 0.6122995587404496, 0.6422864593906304, 0.6617816478566985, 0.6757633827794965, 0.6923966392728145, 0.7061567372641866, 0.7151707140469439, 0.7210076915653125, 0.7297049877302053, 0.7331820806872247, 0.7365242396154984, 0.7438993480615125, 0.7454819630849553, 0.7461523181315273, 0.7476686868566037, 0.7499788258537549, 0.7536500680597897, 0.7548689356360647, 0.7559340685346785, 0.7571428727644128, 0.7577222458278956, 0.755937462559222, 0.7575183804216735, 0.7567200712804484, 0.7556417372362435, 0.7561210822650272] 23\n",
            "start_training\n",
            "0\n",
            "XXXXXXXXXXXXXXXXXXXXXXXXXXXX\n",
            "validation top- 10 0.7697776387548377\n",
            "1\n",
            "XXXXXXXXXXXXXXXXXXXXXXXXXXXX\n",
            "validation top- 10 0.7745830347368206\n",
            "2\n",
            "XXXXXXXXXXXXXXXXXXXXXXXXXXXX\n",
            "validation top- 10 0.7790220714260897\n",
            "3\n",
            "XXXXXXXXXXXXXXXXXXXXXXXXXXXX\n",
            "validation top- 10 0.7809155243476594\n",
            "4\n",
            "XXXXXXXXXXXXXXXXXXXXXXXXXXXX\n",
            "validation top- 10 0.783218725025504\n",
            "5\n",
            "XXXXXXXXXXXXXXXXXXXXXXXXXXXX\n",
            "validation top- 10 0.7835059702997416\n",
            "6\n",
            "XXXXXXXXXXXXXXXXXXXXXXXXXXXX\n",
            "validation top- 10 0.7829316702307447\n",
            "7\n",
            "XXXXXXXXXXXXXXXXXXXXXXXXXXXX\n",
            "validation top- 10 0.7813091366856753\n",
            "8\n",
            "XXXXXXXXXXXXXXXXXXXXXXXXXXXX\n",
            "validation top- 10 0.781788900439549\n",
            "9\n",
            "XXXXXXXXXXXXXXXXXXXXXXXXXXXX\n",
            "validation top- 10 0.7809344594810457\n",
            "10\n",
            "XXXXXXXXXXXXXXXXXXXXXXXXXXXX\n",
            "validation top- 10 0.777941154173852\n",
            "[0.7697776387548377, 0.7745830347368206, 0.7790220714260897, 0.7809155243476594, 0.783218725025504, 0.7835059702997416, 0.7829316702307447, 0.7813091366856753, 0.781788900439549, 0.7809344594810457, 0.777941154173852] 5\n",
            "CNN alone:           \n",
            "KSI_CNN.py:296: DeprecationWarning: `np.int` is a deprecated alias for the builtin `int`. To silence this warning, use `int` by itself. Doing this will not modify any behavior and is safe. When replacing `np.int`, you may wish to use e.g. `np.int64` or `np.int32` to specify the precision. If you wish to review your current use, check the release note link for additional information.\n",
            "Deprecated in NumPy 1.20; for more details and guidance: https://numpy.org/devdocs/release/1.20.0-notes.html#deprecations\n",
            "  y_pred=(y_scores>0.5).astype(np.int)\n",
            "test loss 0.03901169\n",
            "top- 10 0.7500204603362106\n",
            "macro AUC 0.8312319298310952\n",
            "micro AUC 0.9656105557742741\n",
            "macro F1 0.21103060111847347\n",
            "micro F1 0.6225067502830763\n",
            "XXXXXXXXXXXXXXXXXXXXXXXXXXXXXXXXXXXXXXXXXXXXXXXXXXXXXXXXXX\n",
            "KSI+CNN:           \n",
            "KSI_CNN.py:296: DeprecationWarning: `np.int` is a deprecated alias for the builtin `int`. To silence this warning, use `int` by itself. Doing this will not modify any behavior and is safe. When replacing `np.int`, you may wish to use e.g. `np.int64` or `np.int32` to specify the precision. If you wish to review your current use, check the release note link for additional information.\n",
            "Deprecated in NumPy 1.20; for more details and guidance: https://numpy.org/devdocs/release/1.20.0-notes.html#deprecations\n",
            "  y_pred=(y_scores>0.5).astype(np.int)\n",
            "test loss 0.034980208\n",
            "top- 10 0.7812795295965008\n",
            "macro AUC 0.87048521579638\n",
            "micro AUC 0.9736050470496298\n",
            "macro F1 0.2498243106070881\n",
            "micro F1 0.6434982863981722\n"
          ]
        }
      ]
    },
    {
      "cell_type": "code",
      "source": [
        "!python KSI_LSTM.py"
      ],
      "metadata": {
        "colab": {
          "base_uri": "https://localhost:8080/"
        },
        "id": "UQVabYxpN-Sl",
        "outputId": "3c61dfe4-a8c7-4641-e6a6-61f1ffe393f0"
      },
      "execution_count": null,
      "outputs": [
        {
          "output_type": "stream",
          "name": "stdout",
          "text": [
            "KSI_LSTM.py:42: VisibleDeprecationWarning: Creating an ndarray from ragged nested sequences (which is a list-or-tuple of lists-or-tuples-or ndarrays with different lengths or shapes) is deprecated. If you meant to do this, you must specify 'dtype=object' when creating the ndarray.\n",
            "  new_data=np.array(new_data)\n",
            "KSI_LSTM.py:56: DeprecationWarning: `np.int` is a deprecated alias for the builtin `int`. To silence this warning, use `int` by itself. Doing this will not modify any behavior and is safe. When replacing `np.int`, you may wish to use e.g. `np.int64` or `np.int32` to specify the precision. If you wish to review your current use, check the release note link for additional information.\n",
            "Deprecated in NumPy 1.20; for more details and guidance: https://numpy.org/devdocs/release/1.20.0-notes.html#deprecations\n",
            "  main_matrix = np.zeros((mybsize, numword), dtype= np.int)\n",
            "start_training\n",
            "0\n",
            "XXXXXXXXXXXXXXXXXXXXXXXXXXXX\n",
            "validation top- 10 0.4288319600440542\n",
            "1\n",
            "XXXXXXXXXXXXXXXXXXXXXXXXXXXX\n",
            "validation top- 10 0.49612631506771865\n",
            "2\n",
            "XXXXXXXXXXXXXXXXXXXXXXXXXXXX\n",
            "validation top- 10 0.5371347397996127\n",
            "3\n",
            "XXXXXXXXXXXXXXXXXXXXXXXXXXXX\n",
            "validation top- 10 0.57960611939744\n",
            "4\n",
            "XXXXXXXXXXXXXXXXXXXXXXXXXXXX\n",
            "validation top- 10 0.6060135762942431\n",
            "5\n",
            "XXXXXXXXXXXXXXXXXXXXXXXXXXXX\n",
            "validation top- 10 0.6306258634506745\n",
            "6\n",
            "XXXXXXXXXXXXXXXXXXXXXXXXXXXX\n",
            "validation top- 10 0.6529176350147726\n",
            "7\n",
            "XXXXXXXXXXXXXXXXXXXXXXXXXXXX\n",
            "validation top- 10 0.6650854147296982\n",
            "8\n",
            "XXXXXXXXXXXXXXXXXXXXXXXXXXXX\n",
            "validation top- 10 0.6776047413733818\n",
            "9\n",
            "XXXXXXXXXXXXXXXXXXXXXXXXXXXX\n",
            "validation top- 10 0.6885564256977353\n",
            "10\n",
            "XXXXXXXXXXXXXXXXXXXXXXXXXXXX\n",
            "validation top- 10 0.6986521278980811\n",
            "11\n",
            "XXXXXXXXXXXXXXXXXXXXXXXXXXXX\n",
            "validation top- 10 0.7030694364234735\n",
            "12\n",
            "XXXXXXXXXXXXXXXXXXXXXXXXXXXX\n",
            "validation top- 10 0.7123422624852275\n",
            "13\n",
            "XXXXXXXXXXXXXXXXXXXXXXXXXXXX\n",
            "validation top- 10 0.7180066227334836\n",
            "14\n",
            "XXXXXXXXXXXXXXXXXXXXXXXXXXXX\n",
            "validation top- 10 0.7228353739341756\n",
            "15\n",
            "XXXXXXXXXXXXXXXXXXXXXXXXXXXX\n",
            "validation top- 10 0.7253831336542651\n",
            "16\n",
            "XXXXXXXXXXXXXXXXXXXXXXXXXXXX\n",
            "validation top- 10 0.732078014625066\n",
            "17\n",
            "XXXXXXXXXXXXXXXXXXXXXXXXXXXX\n",
            "validation top- 10 0.7380664659954834\n",
            "18\n",
            "XXXXXXXXXXXXXXXXXXXXXXXXXXXX\n",
            "validation top- 10 0.7391607743819303\n",
            "19\n",
            "XXXXXXXXXXXXXXXXXXXXXXXXXXXX\n",
            "validation top- 10 0.7433243865083464\n",
            "20\n",
            "XXXXXXXXXXXXXXXXXXXXXXXXXXXX\n",
            "validation top- 10 0.7440340243947641\n",
            "21\n",
            "XXXXXXXXXXXXXXXXXXXXXXXXXXXX\n",
            "validation top- 10 0.7454775971945329\n",
            "22\n",
            "XXXXXXXXXXXXXXXXXXXXXXXXXXXX\n",
            "validation top- 10 0.748999388471214\n",
            "23\n",
            "XXXXXXXXXXXXXXXXXXXXXXXXXXXX\n",
            "validation top- 10 0.7498219216181418\n",
            "24\n",
            "XXXXXXXXXXXXXXXXXXXXXXXXXXXX\n",
            "validation top- 10 0.7525390306737908\n",
            "25\n",
            "XXXXXXXXXXXXXXXXXXXXXXXXXXXX\n",
            "validation top- 10 0.7543717731209019\n",
            "26\n",
            "XXXXXXXXXXXXXXXXXXXXXXXXXXXX\n",
            "validation top- 10 0.7569278331575957\n",
            "27\n",
            "XXXXXXXXXXXXXXXXXXXXXXXXXXXX\n",
            "validation top- 10 0.757324332479805\n",
            "28\n",
            "XXXXXXXXXXXXXXXXXXXXXXXXXXXX\n",
            "validation top- 10 0.7601317011960999\n",
            "29\n",
            "XXXXXXXXXXXXXXXXXXXXXXXXXXXX\n",
            "validation top- 10 0.7565299421569608\n",
            "30\n",
            "XXXXXXXXXXXXXXXXXXXXXXXXXXXX\n",
            "validation top- 10 0.7595054744603529\n",
            "Traceback (most recent call last):\n",
            "  File \"KSI_LSTM.py\", line 225, in <module>\n",
            "    basemodel= trainmodel(model, 0)\n",
            "  File \"KSI_LSTM.py\", line 170, in trainmodel\n",
            "    tag_scores = model(mysentence[0].cuda(),mysentence[1].cuda(),wikivec.cuda(),sim)\n",
            "KeyboardInterrupt\n"
          ]
        }
      ]
    },
    {
      "cell_type": "code",
      "source": [
        "!python KSI_LSTMatt.py"
      ],
      "metadata": {
        "colab": {
          "base_uri": "https://localhost:8080/"
        },
        "id": "en55s1nPOBQ-",
        "outputId": "acb344bf-c354-425d-9b1f-3c522dfb6bef"
      },
      "execution_count": null,
      "outputs": [
        {
          "output_type": "stream",
          "name": "stdout",
          "text": [
            "KSI_LSTMatt.py:42: VisibleDeprecationWarning: Creating an ndarray from ragged nested sequences (which is a list-or-tuple of lists-or-tuples-or ndarrays with different lengths or shapes) is deprecated. If you meant to do this, you must specify 'dtype=object' when creating the ndarray.\n",
            "  new_data=np.array(new_data)\n",
            "KSI_LSTMatt.py:56: DeprecationWarning: `np.int` is a deprecated alias for the builtin `int`. To silence this warning, use `int` by itself. Doing this will not modify any behavior and is safe. When replacing `np.int`, you may wish to use e.g. `np.int64` or `np.int32` to specify the precision. If you wish to review your current use, check the release note link for additional information.\n",
            "Deprecated in NumPy 1.20; for more details and guidance: https://numpy.org/devdocs/release/1.20.0-notes.html#deprecations\n",
            "  main_matrix = np.zeros((mybsize, numword), dtype= np.int)\n",
            "start_training\n",
            "0\n",
            "XXXXXXXXXXXXXXXXXXXXXXXXXXXX\n",
            "validation top- 10 0.3796880833045024\n",
            "1\n",
            "XXXXXXXXXXXXXXXXXXXXXXXXXXXX\n",
            "validation top- 10 0.5110696636997789\n",
            "2\n",
            "XXXXXXXXXXXXXXXXXXXXXXXXXXXX\n",
            "validation top- 10 0.6093055428192424\n",
            "3\n",
            "XXXXXXXXXXXXXXXXXXXXXXXXXXXX\n",
            "validation top- 10 0.6572779123564315\n",
            "4\n",
            "XXXXXXXXXXXXXXXXXXXXXXXXXXXX\n",
            "validation top- 10 0.6913102760352287\n",
            "5\n",
            "XXXXXXXXXXXXXXXXXXXXXXXXXXXX\n",
            "validation top- 10 0.712381054140963\n",
            "6\n",
            "XXXXXXXXXXXXXXXXXXXXXXXXXXXX\n",
            "validation top- 10 0.7319656780423488\n",
            "7\n",
            "XXXXXXXXXXXXXXXXXXXXXXXXXXXX\n",
            "validation top- 10 0.7490557300327217\n",
            "8\n",
            "XXXXXXXXXXXXXXXXXXXXXXXXXXXX\n",
            "validation top- 10 0.7648167395299731\n",
            "9\n",
            "XXXXXXXXXXXXXXXXXXXXXXXXXXXX\n",
            "validation top- 10 0.7701526572533232\n",
            "10\n",
            "XXXXXXXXXXXXXXXXXXXXXXXXXXXX\n",
            "validation top- 10 0.7730448759900487\n",
            "11\n",
            "XXXXXXXXXXXXXXXXXXXXXXXXXXXX\n",
            "validation top- 10 0.7802758508102225\n",
            "12\n",
            "XXXXXXXXXXXXXXXXXXXXXXXXXXXX\n",
            "validation top- 10 0.7834162074668065\n",
            "13\n",
            "XXXXXXXXXXXXXXXXXXXXXXXXXXXX\n",
            "validation top- 10 0.7871388343424428\n",
            "14\n",
            "XXXXXXXXXXXXXXXXXXXXXXXXXXXX\n",
            "validation top- 10 0.7905063480623135\n",
            "15\n",
            "XXXXXXXXXXXXXXXXXXXXXXXXXXXX\n",
            "validation top- 10 0.7922422765221323\n",
            "16\n",
            "XXXXXXXXXXXXXXXXXXXXXXXXXXXX\n",
            "validation top- 10 0.7941588853586284\n",
            "17\n",
            "XXXXXXXXXXXXXXXXXXXXXXXXXXXX\n",
            "validation top- 10 0.7925567496754249\n",
            "18\n",
            "XXXXXXXXXXXXXXXXXXXXXXXXXXXX\n",
            "validation top- 10 0.7952998549125266\n",
            "19\n",
            "XXXXXXXXXXXXXXXXXXXXXXXXXXXX\n",
            "validation top- 10 0.7950354012869386\n",
            "20\n",
            "XXXXXXXXXXXXXXXXXXXXXXXXXXXX\n",
            "validation top- 10 0.7939392185467694\n",
            "21\n",
            "XXXXXXXXXXXXXXXXXXXXXXXXXXXX\n",
            "validation top- 10 0.7964898564680106\n",
            "22\n",
            "XXXXXXXXXXXXXXXXXXXXXXXXXXXX\n",
            "validation top- 10 0.7928819255311822\n",
            "23\n",
            "XXXXXXXXXXXXXXXXXXXXXXXXXXXX\n",
            "validation top- 10 0.7934365995499347\n",
            "24\n",
            "XXXXXXXXXXXXXXXXXXXXXXXXXXXX\n",
            "validation top- 10 0.7917423948264123\n",
            "25\n",
            "XXXXXXXXXXXXXXXXXXXXXXXXXXXX\n",
            "validation top- 10 0.7901647969657816\n",
            "26\n",
            "XXXXXXXXXXXXXXXXXXXXXXXXXXXX\n",
            "validation top- 10 0.7915144060081255\n",
            "[0.3796880833045024, 0.5110696636997789, 0.6093055428192424, 0.6572779123564315, 0.6913102760352287, 0.712381054140963, 0.7319656780423488, 0.7490557300327217, 0.7648167395299731, 0.7701526572533232, 0.7730448759900487, 0.7802758508102225, 0.7834162074668065, 0.7871388343424428, 0.7905063480623135, 0.7922422765221323, 0.7941588853586284, 0.7925567496754249, 0.7952998549125266, 0.7950354012869386, 0.7939392185467694, 0.7964898564680106, 0.7928819255311822, 0.7934365995499347, 0.7917423948264123, 0.7901647969657816, 0.7915144060081255] 21\n",
            "start_training\n",
            "0\n",
            "XXXXXXXXXXXXXXXXXXXXXXXXXXXX\n",
            "validation top- 10 0.8050618299416882\n",
            "1\n",
            "XXXXXXXXXXXXXXXXXXXXXXXXXXXX\n",
            "validation top- 10 0.8087069770231602\n",
            "2\n",
            "XXXXXXXXXXXXXXXXXXXXXXXXXXXX\n",
            "validation top- 10 0.8121895666324257\n",
            "3\n",
            "XXXXXXXXXXXXXXXXXXXXXXXXXXXX\n",
            "validation top- 10 0.8125589393620954\n",
            "4\n",
            "XXXXXXXXXXXXXXXXXXXXXXXXXXXX\n",
            "validation top- 10 0.8122919644275569\n",
            "5\n",
            "XXXXXXXXXXXXXXXXXXXXXXXXXXXX\n",
            "validation top- 10 0.8111489062427737\n",
            "6\n",
            "XXXXXXXXXXXXXXXXXXXXXXXXXXXX\n",
            "validation top- 10 0.809490758053944\n",
            "7\n",
            "XXXXXXXXXXXXXXXXXXXXXXXXXXXX\n",
            "validation top- 10 0.8094009200463553\n",
            "8\n",
            "XXXXXXXXXXXXXXXXXXXXXXXXXXXX\n",
            "validation top- 10 0.807479054481567\n",
            "[0.8050618299416882, 0.8087069770231602, 0.8121895666324257, 0.8125589393620954, 0.8122919644275569, 0.8111489062427737, 0.809490758053944, 0.8094009200463553, 0.807479054481567] 3\n",
            "LSTMattn alone:           \n",
            "KSI_LSTMatt.py:299: DeprecationWarning: `np.int` is a deprecated alias for the builtin `int`. To silence this warning, use `int` by itself. Doing this will not modify any behavior and is safe. When replacing `np.int`, you may wish to use e.g. `np.int64` or `np.int32` to specify the precision. If you wish to review your current use, check the release note link for additional information.\n",
            "Deprecated in NumPy 1.20; for more details and guidance: https://numpy.org/devdocs/release/1.20.0-notes.html#deprecations\n",
            "  y_pred=(y_scores>0.5).astype(np.int)\n",
            "test loss 0.035679273\n",
            "top- 10 0.7890955665519177\n",
            "macro AUC 0.8471586694123668\n",
            "micro AUC 0.9739016293528034\n",
            "macro F1 0.2479528389006514\n",
            "micro F1 0.6435407087266642\n",
            "XXXXXXXXXXXXXXXXXXXXXXXXXXXXXXXXXXXXXXXXXXXXXXXXXXXXXXXXXX\n",
            "KSI+LSTMattn:           \n",
            "KSI_LSTMatt.py:299: DeprecationWarning: `np.int` is a deprecated alias for the builtin `int`. To silence this warning, use `int` by itself. Doing this will not modify any behavior and is safe. When replacing `np.int`, you may wish to use e.g. `np.int64` or `np.int32` to specify the precision. If you wish to review your current use, check the release note link for additional information.\n",
            "Deprecated in NumPy 1.20; for more details and guidance: https://numpy.org/devdocs/release/1.20.0-notes.html#deprecations\n",
            "  y_pred=(y_scores>0.5).astype(np.int)\n",
            "test loss 0.0327006\n",
            "top- 10 0.8033933083742822\n",
            "macro AUC 0.8869315218841526\n",
            "micro AUC 0.977975293333773\n",
            "macro F1 0.2948724435620207\n",
            "micro F1 0.6617492987258777\n"
          ]
        }
      ]
    },
    {
      "cell_type": "code",
      "source": [
        "!python KSI_CAML.py"
      ],
      "metadata": {
        "colab": {
          "base_uri": "https://localhost:8080/"
        },
        "id": "rDROr_Gw3Xqj",
        "outputId": "42d5e641-ff23-4929-fd13-bf8621c6cd25"
      },
      "execution_count": null,
      "outputs": [
        {
          "output_type": "stream",
          "name": "stdout",
          "text": [
            "KSI_CAML.py:43: VisibleDeprecationWarning: Creating an ndarray from ragged nested sequences (which is a list-or-tuple of lists-or-tuples-or ndarrays with different lengths or shapes) is deprecated. If you meant to do this, you must specify 'dtype=object' when creating the ndarray.\n",
            "  new_data=np.array(new_data)\n",
            "KSI_CAML.py:57: DeprecationWarning: `np.int` is a deprecated alias for the builtin `int`. To silence this warning, use `int` by itself. Doing this will not modify any behavior and is safe. When replacing `np.int`, you may wish to use e.g. `np.int64` or `np.int32` to specify the precision. If you wish to review your current use, check the release note link for additional information.\n",
            "Deprecated in NumPy 1.20; for more details and guidance: https://numpy.org/devdocs/release/1.20.0-notes.html#deprecations\n",
            "  main_matrix = np.zeros((mybsize, numword), dtype= np.int)\n",
            "start_training\n",
            "0\n",
            "XXXXXXXXXXXXXXXXXXXXXXXXXXXX\n",
            "validation top- 10 0.6044048484082241\n",
            "1\n",
            "XXXXXXXXXXXXXXXXXXXXXXXXXXXX\n",
            "validation top- 10 0.7351386587887544\n",
            "2\n",
            "XXXXXXXXXXXXXXXXXXXXXXXXXXXX\n",
            "validation top- 10 0.7708715147202543\n",
            "3\n",
            "XXXXXXXXXXXXXXXXXXXXXXXXXXXX\n",
            "validation top- 10 0.7896376400647074\n",
            "4\n",
            "XXXXXXXXXXXXXXXXXXXXXXXXXXXX\n",
            "validation top- 10 0.7972106688739532\n",
            "5\n",
            "XXXXXXXXXXXXXXXXXXXXXXXXXXXX\n",
            "validation top- 10 0.8031287366802995\n",
            "6\n",
            "XXXXXXXXXXXXXXXXXXXXXXXXXXXX\n",
            "validation top- 10 0.8069326762550824\n",
            "7\n",
            "XXXXXXXXXXXXXXXXXXXXXXXXXXXX\n",
            "validation top- 10 0.8055677895487277\n",
            "8\n",
            "XXXXXXXXXXXXXXXXXXXXXXXXXXXX\n",
            "validation top- 10 0.8053297325208615\n",
            "9\n",
            "XXXXXXXXXXXXXXXXXXXXXXXXXXXX\n",
            "validation top- 10 0.8063642871379448\n",
            "10\n",
            "XXXXXXXXXXXXXXXXXXXXXXXXXXXX\n",
            "validation top- 10 0.8090197694390706\n",
            "11\n",
            "XXXXXXXXXXXXXXXXXXXXXXXXXXXX\n",
            "validation top- 10 0.8092199470698243\n",
            "12\n",
            "XXXXXXXXXXXXXXXXXXXXXXXXXXXX\n",
            "validation top- 10 0.8101487634371684\n",
            "13\n",
            "XXXXXXXXXXXXXXXXXXXXXXXXXXXX\n",
            "validation top- 10 0.8113517289815019\n",
            "14\n",
            "XXXXXXXXXXXXXXXXXXXXXXXXXXXX\n",
            "validation top- 10 0.8116583075427964\n",
            "15\n",
            "XXXXXXXXXXXXXXXXXXXXXXXXXXXX\n",
            "validation top- 10 0.8104984101565177\n",
            "16\n",
            "XXXXXXXXXXXXXXXXXXXXXXXXXXXX\n",
            "validation top- 10 0.8100182952683771\n",
            "17\n",
            "XXXXXXXXXXXXXXXXXXXXXXXXXXXX\n",
            "validation top- 10 0.808002453091821\n",
            "18\n",
            "XXXXXXXXXXXXXXXXXXXXXXXXXXXX\n",
            "validation top- 10 0.805693506951576\n",
            "19\n",
            "XXXXXXXXXXXXXXXXXXXXXXXXXXXX\n",
            "validation top- 10 0.8057614128038348\n",
            "[0.6044048484082241, 0.7351386587887544, 0.7708715147202543, 0.7896376400647074, 0.7972106688739532, 0.8031287366802995, 0.8069326762550824, 0.8055677895487277, 0.8053297325208615, 0.8063642871379448, 0.8090197694390706, 0.8092199470698243, 0.8101487634371684, 0.8113517289815019, 0.8116583075427964, 0.8104984101565177, 0.8100182952683771, 0.808002453091821, 0.805693506951576, 0.8057614128038348] 14\n",
            "start_training\n",
            "0\n",
            "XXXXXXXXXXXXXXXXXXXXXXXXXXXX\n",
            "validation top- 10 0.8140266255254831\n",
            "1\n",
            "XXXXXXXXXXXXXXXXXXXXXXXXXXXX\n",
            "validation top- 10 0.8147091382076955\n",
            "2\n",
            "XXXXXXXXXXXXXXXXXXXXXXXXXXXX\n",
            "validation top- 10 0.8170125045297363\n",
            "3\n",
            "XXXXXXXXXXXXXXXXXXXXXXXXXXXX\n",
            "validation top- 10 0.8182234205097768\n",
            "4\n",
            "XXXXXXXXXXXXXXXXXXXXXXXXXXXX\n",
            "validation top- 10 0.8171049411193342\n",
            "5\n",
            "XXXXXXXXXXXXXXXXXXXXXXXXXXXX\n",
            "validation top- 10 0.8175013924988754\n",
            "6\n",
            "XXXXXXXXXXXXXXXXXXXXXXXXXXXX\n",
            "validation top- 10 0.8159682510283893\n",
            "7\n",
            "XXXXXXXXXXXXXXXXXXXXXXXXXXXX\n",
            "validation top- 10 0.8140574932786019\n",
            "8\n",
            "XXXXXXXXXXXXXXXXXXXXXXXXXXXX\n",
            "validation top- 10 0.8104559403705842\n",
            "[0.8140266255254831, 0.8147091382076955, 0.8170125045297363, 0.8182234205097768, 0.8171049411193342, 0.8175013924988754, 0.8159682510283893, 0.8140574932786019, 0.8104559403705842] 3\n",
            "CAML alone:           \n",
            "KSI_CAML.py:290: DeprecationWarning: `np.int` is a deprecated alias for the builtin `int`. To silence this warning, use `int` by itself. Doing this will not modify any behavior and is safe. When replacing `np.int`, you may wish to use e.g. `np.int64` or `np.int32` to specify the precision. If you wish to review your current use, check the release note link for additional information.\n",
            "Deprecated in NumPy 1.20; for more details and guidance: https://numpy.org/devdocs/release/1.20.0-notes.html#deprecations\n",
            "  y_pred=(y_scores>0.5).astype(np.int)\n",
            "test loss 0.0331816\n",
            "top- 10 0.8082227943470723\n",
            "macro AUC 0.8531734147062066\n",
            "micro AUC 0.9782101645827287\n",
            "macro F1 0.281852134831064\n",
            "micro F1 0.6581356098693552\n",
            "XXXXXXXXXXXXXXXXXXXXXXXXXXXXXXXXXXXXXXXXXXXXXXXXXXXXXXXXXX\n",
            "KSI+CAML:           \n",
            "KSI_CAML.py:290: DeprecationWarning: `np.int` is a deprecated alias for the builtin `int`. To silence this warning, use `int` by itself. Doing this will not modify any behavior and is safe. When replacing `np.int`, you may wish to use e.g. `np.int64` or `np.int32` to specify the precision. If you wish to review your current use, check the release note link for additional information.\n",
            "Deprecated in NumPy 1.20; for more details and guidance: https://numpy.org/devdocs/release/1.20.0-notes.html#deprecations\n",
            "  y_pred=(y_scores>0.5).astype(np.int)\n",
            "test loss 0.03233041\n",
            "top- 10 0.81482262907353\n",
            "macro AUC 0.8824331455916562\n",
            "micro AUC 0.9801271600924634\n",
            "macro F1 0.2968179130496338\n",
            "micro F1 0.6652959265571878\n"
          ]
        }
      ]
    }
  ]
}