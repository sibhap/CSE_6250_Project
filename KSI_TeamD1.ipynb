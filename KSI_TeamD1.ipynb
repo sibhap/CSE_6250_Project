{
  "nbformat": 4,
  "nbformat_minor": 0,
  "metadata": {
    "colab": {
      "provenance": [],
      "machine_shape": "hm",
      "collapsed_sections": [
        "9I5d6ogBxH0Y"
      ],
      "include_colab_link": true
    },
    "kernelspec": {
      "name": "python3",
      "display_name": "Python 3"
    },
    "language_info": {
      "name": "python"
    },
    "gpuClass": "premium",
    "accelerator": "GPU"
  },
  "cells": [
    {
      "cell_type": "markdown",
      "metadata": {
        "id": "view-in-github",
        "colab_type": "text"
      },
      "source": [
        "<a href=\"https://colab.research.google.com/github/sibhap/CSE_6250_Project/blob/master/KSI_TeamD1.ipynb\" target=\"_parent\"><img src=\"https://colab.research.google.com/assets/colab-badge.svg\" alt=\"Open In Colab\"/></a>"
      ]
    },
    {
      "cell_type": "code",
      "execution_count": 5,
      "metadata": {
        "colab": {
          "base_uri": "https://localhost:8080/"
        },
        "id": "ebgzDE0YM-rv",
        "outputId": "ad497da8-9747-4fdc-f078-e6660da52602"
      },
      "outputs": [
        {
          "output_type": "stream",
          "name": "stdout",
          "text": [
            "Mounted at /content/gdrive\n"
          ]
        }
      ],
      "source": [
        "from google.colab import drive\n",
        "drive.mount('/content/gdrive')"
      ]
    },
    {
      "cell_type": "code",
      "source": [
        "!pip install stop-words"
      ],
      "metadata": {
        "colab": {
          "base_uri": "https://localhost:8080/"
        },
        "id": "5N9f7BtyjnKt",
        "outputId": "75f75dc0-2098-43d8-eddb-db4e2b20b294"
      },
      "execution_count": null,
      "outputs": [
        {
          "output_type": "stream",
          "name": "stdout",
          "text": [
            "Looking in indexes: https://pypi.org/simple, https://us-python.pkg.dev/colab-wheels/public/simple/\n",
            "Collecting stop-words\n",
            "  Downloading stop-words-2018.7.23.tar.gz (31 kB)\n",
            "Building wheels for collected packages: stop-words\n",
            "  Building wheel for stop-words (setup.py) ... \u001b[?25l\u001b[?25hdone\n",
            "  Created wheel for stop-words: filename=stop_words-2018.7.23-py3-none-any.whl size=32912 sha256=1d87e8b2bd95f62b275c9c77d1a2f74e08a5ec2bfb8b115b3a22df8a2338bef8\n",
            "  Stored in directory: /root/.cache/pip/wheels/fb/86/b2/277b10b1ce9f73ce15059bf6975d4547cc4ec3feeb651978e9\n",
            "Successfully built stop-words\n",
            "Installing collected packages: stop-words\n",
            "Successfully installed stop-words-2018.7.23\n"
          ]
        }
      ]
    },
    {
      "cell_type": "code",
      "source": [
        "%cd /content/gdrive/My Drive/CS6250"
      ],
      "metadata": {
        "colab": {
          "base_uri": "https://localhost:8080/"
        },
        "id": "OgErSZzcl1nA",
        "outputId": "b6a4cbc6-d21f-4ee3-a1f7-0c6a6e3aa901"
      },
      "execution_count": 6,
      "outputs": [
        {
          "output_type": "stream",
          "name": "stdout",
          "text": [
            "/content/gdrive/My Drive/CS6250\n"
          ]
        }
      ]
    },
    {
      "cell_type": "code",
      "source": [
        "!python preprocessing1.py"
      ],
      "metadata": {
        "id": "3r4U1W_vl_0I"
      },
      "execution_count": null,
      "outputs": []
    },
    {
      "cell_type": "code",
      "source": [
        "!python preprocessing2.py"
      ],
      "metadata": {
        "colab": {
          "base_uri": "https://localhost:8080/"
        },
        "id": "pw_cg2z8mCo0",
        "outputId": "b39915c4-fe9d-407c-d156-3fa9fcf39a18"
      },
      "execution_count": null,
      "outputs": [
        {
          "output_type": "stream",
          "name": "stdout",
          "text": [
            "tcmalloc: large alloc 5134286848 bytes == 0x5b606000 @  0x7f74a3438001 0x7f74a0dc71af 0x7f74a0e1dc23 0x7f74a0e1ea87 0x7f74a0ec0823 0x58f62c 0x510bf2 0x58fd37 0x510325 0x5b4ee6 0x58ff2e 0x510325 0x4bac0a 0x4d3249 0x5917ee 0x591ac9 0x539167 0x50cb08 0x5b4ee6 0x6005a3 0x607796 0x60785c 0x60a436 0x64db82 0x64dd2e 0x7f74a3033c87 0x5b636a\n",
            "tcmalloc: large alloc 5134286848 bytes == 0x18e42a000 @  0x7f74a34361e7 0x7f74a0dc70ce 0x7f74a0e21726 0x7f74a0e21b09 0x7f74a0e23620 0x7f74a0e23d1b 0x7f74a0ec4333 0x58f62c 0x510bf2 0x5b4ee6 0x6005a3 0x607796 0x60785c 0x60a436 0x64db82 0x64dd2e 0x7f74a3033c87 0x5b636a\n"
          ]
        }
      ]
    },
    {
      "cell_type": "code",
      "source": [
        "!python preprocessing3.py"
      ],
      "metadata": {
        "colab": {
          "base_uri": "https://localhost:8080/"
        },
        "id": "4mINThiInzxQ",
        "outputId": "21c28bfb-1837-4722-d493-b3ee0cf7a702"
      },
      "execution_count": null,
      "outputs": [
        {
          "output_type": "stream",
          "name": "stdout",
          "text": [
            "tcmalloc: large alloc 5134286848 bytes == 0x1f734000 @  0x7f88e9d8c1e7 0x7f88e76dd0ce 0x7f88e7734e57 0x7f88e7735a6f 0x7f88e77dbc5d 0x58f795 0x510bf2 0x5b4ee6 0x58ff2e 0x50d482 0x5b4ee6 0x58ff2e 0x510325 0x5b4ee6 0x6005a3 0x607796 0x60785c 0x60a436 0x64db82 0x64dd2e 0x7f88e9989c87 0x5b636a\n",
            "preprocessing3.py:98: VisibleDeprecationWarning: Creating an ndarray from ragged nested sequences (which is a list-or-tuple of lists-or-tuples-or ndarrays with different lengths or shapes) is deprecated. If you meant to do this, you must specify 'dtype=object' when creating the ndarray.\n",
            "  data=np.array(data)\n"
          ]
        }
      ]
    },
    {
      "cell_type": "code",
      "source": [
        "!pip install tensorflow"
      ],
      "metadata": {
        "colab": {
          "base_uri": "https://localhost:8080/"
        },
        "id": "HJhmP3VUa8ls",
        "outputId": "7bc2ad5a-d4cb-4644-98ea-0d0f57dac9a1"
      },
      "execution_count": null,
      "outputs": [
        {
          "output_type": "stream",
          "name": "stdout",
          "text": [
            "Looking in indexes: https://pypi.org/simple, https://us-python.pkg.dev/colab-wheels/public/simple/\n",
            "Requirement already satisfied: tensorflow in /usr/local/lib/python3.7/dist-packages (2.9.2)\n",
            "Requirement already satisfied: grpcio<2.0,>=1.24.3 in /usr/local/lib/python3.7/dist-packages (from tensorflow) (1.50.0)\n",
            "Requirement already satisfied: typing-extensions>=3.6.6 in /usr/local/lib/python3.7/dist-packages (from tensorflow) (4.1.1)\n",
            "Requirement already satisfied: tensorflow-estimator<2.10.0,>=2.9.0rc0 in /usr/local/lib/python3.7/dist-packages (from tensorflow) (2.9.0)\n",
            "Requirement already satisfied: keras<2.10.0,>=2.9.0rc0 in /usr/local/lib/python3.7/dist-packages (from tensorflow) (2.9.0)\n",
            "Requirement already satisfied: astunparse>=1.6.0 in /usr/local/lib/python3.7/dist-packages (from tensorflow) (1.6.3)\n",
            "Requirement already satisfied: gast<=0.4.0,>=0.2.1 in /usr/local/lib/python3.7/dist-packages (from tensorflow) (0.4.0)\n",
            "Requirement already satisfied: tensorflow-io-gcs-filesystem>=0.23.1 in /usr/local/lib/python3.7/dist-packages (from tensorflow) (0.27.0)\n",
            "Requirement already satisfied: keras-preprocessing>=1.1.1 in /usr/local/lib/python3.7/dist-packages (from tensorflow) (1.1.2)\n",
            "Requirement already satisfied: absl-py>=1.0.0 in /usr/local/lib/python3.7/dist-packages (from tensorflow) (1.3.0)\n",
            "Requirement already satisfied: flatbuffers<2,>=1.12 in /usr/local/lib/python3.7/dist-packages (from tensorflow) (1.12)\n",
            "Requirement already satisfied: libclang>=13.0.0 in /usr/local/lib/python3.7/dist-packages (from tensorflow) (14.0.6)\n",
            "Requirement already satisfied: h5py>=2.9.0 in /usr/local/lib/python3.7/dist-packages (from tensorflow) (3.1.0)\n",
            "Requirement already satisfied: google-pasta>=0.1.1 in /usr/local/lib/python3.7/dist-packages (from tensorflow) (0.2.0)\n",
            "Requirement already satisfied: packaging in /usr/local/lib/python3.7/dist-packages (from tensorflow) (21.3)\n",
            "Requirement already satisfied: wrapt>=1.11.0 in /usr/local/lib/python3.7/dist-packages (from tensorflow) (1.14.1)\n",
            "Requirement already satisfied: opt-einsum>=2.3.2 in /usr/local/lib/python3.7/dist-packages (from tensorflow) (3.3.0)\n",
            "Requirement already satisfied: protobuf<3.20,>=3.9.2 in /usr/local/lib/python3.7/dist-packages (from tensorflow) (3.19.6)\n",
            "Requirement already satisfied: six>=1.12.0 in /usr/local/lib/python3.7/dist-packages (from tensorflow) (1.15.0)\n",
            "Requirement already satisfied: tensorboard<2.10,>=2.9 in /usr/local/lib/python3.7/dist-packages (from tensorflow) (2.9.1)\n",
            "Requirement already satisfied: termcolor>=1.1.0 in /usr/local/lib/python3.7/dist-packages (from tensorflow) (2.1.0)\n",
            "Requirement already satisfied: numpy>=1.20 in /usr/local/lib/python3.7/dist-packages (from tensorflow) (1.21.6)\n",
            "Requirement already satisfied: setuptools in /usr/local/lib/python3.7/dist-packages (from tensorflow) (57.4.0)\n",
            "Requirement already satisfied: wheel<1.0,>=0.23.0 in /usr/local/lib/python3.7/dist-packages (from astunparse>=1.6.0->tensorflow) (0.38.3)\n",
            "Requirement already satisfied: cached-property in /usr/local/lib/python3.7/dist-packages (from h5py>=2.9.0->tensorflow) (1.5.2)\n",
            "Requirement already satisfied: requests<3,>=2.21.0 in /usr/local/lib/python3.7/dist-packages (from tensorboard<2.10,>=2.9->tensorflow) (2.23.0)\n",
            "Requirement already satisfied: tensorboard-data-server<0.7.0,>=0.6.0 in /usr/local/lib/python3.7/dist-packages (from tensorboard<2.10,>=2.9->tensorflow) (0.6.1)\n",
            "Requirement already satisfied: werkzeug>=1.0.1 in /usr/local/lib/python3.7/dist-packages (from tensorboard<2.10,>=2.9->tensorflow) (1.0.1)\n",
            "Requirement already satisfied: google-auth<3,>=1.6.3 in /usr/local/lib/python3.7/dist-packages (from tensorboard<2.10,>=2.9->tensorflow) (2.14.1)\n",
            "Requirement already satisfied: markdown>=2.6.8 in /usr/local/lib/python3.7/dist-packages (from tensorboard<2.10,>=2.9->tensorflow) (3.4.1)\n",
            "Requirement already satisfied: tensorboard-plugin-wit>=1.6.0 in /usr/local/lib/python3.7/dist-packages (from tensorboard<2.10,>=2.9->tensorflow) (1.8.1)\n",
            "Requirement already satisfied: google-auth-oauthlib<0.5,>=0.4.1 in /usr/local/lib/python3.7/dist-packages (from tensorboard<2.10,>=2.9->tensorflow) (0.4.6)\n",
            "Requirement already satisfied: rsa<5,>=3.1.4 in /usr/local/lib/python3.7/dist-packages (from google-auth<3,>=1.6.3->tensorboard<2.10,>=2.9->tensorflow) (4.9)\n",
            "Requirement already satisfied: pyasn1-modules>=0.2.1 in /usr/local/lib/python3.7/dist-packages (from google-auth<3,>=1.6.3->tensorboard<2.10,>=2.9->tensorflow) (0.2.8)\n",
            "Requirement already satisfied: cachetools<6.0,>=2.0.0 in /usr/local/lib/python3.7/dist-packages (from google-auth<3,>=1.6.3->tensorboard<2.10,>=2.9->tensorflow) (5.2.0)\n",
            "Requirement already satisfied: requests-oauthlib>=0.7.0 in /usr/local/lib/python3.7/dist-packages (from google-auth-oauthlib<0.5,>=0.4.1->tensorboard<2.10,>=2.9->tensorflow) (1.3.1)\n",
            "Requirement already satisfied: importlib-metadata>=4.4 in /usr/local/lib/python3.7/dist-packages (from markdown>=2.6.8->tensorboard<2.10,>=2.9->tensorflow) (4.13.0)\n",
            "Requirement already satisfied: zipp>=0.5 in /usr/local/lib/python3.7/dist-packages (from importlib-metadata>=4.4->markdown>=2.6.8->tensorboard<2.10,>=2.9->tensorflow) (3.10.0)\n",
            "Requirement already satisfied: pyasn1<0.5.0,>=0.4.6 in /usr/local/lib/python3.7/dist-packages (from pyasn1-modules>=0.2.1->google-auth<3,>=1.6.3->tensorboard<2.10,>=2.9->tensorflow) (0.4.8)\n",
            "Requirement already satisfied: chardet<4,>=3.0.2 in /usr/local/lib/python3.7/dist-packages (from requests<3,>=2.21.0->tensorboard<2.10,>=2.9->tensorflow) (3.0.4)\n",
            "Requirement already satisfied: certifi>=2017.4.17 in /usr/local/lib/python3.7/dist-packages (from requests<3,>=2.21.0->tensorboard<2.10,>=2.9->tensorflow) (2022.9.24)\n",
            "Requirement already satisfied: idna<3,>=2.5 in /usr/local/lib/python3.7/dist-packages (from requests<3,>=2.21.0->tensorboard<2.10,>=2.9->tensorflow) (2.10)\n",
            "Requirement already satisfied: urllib3!=1.25.0,!=1.25.1,<1.26,>=1.21.1 in /usr/local/lib/python3.7/dist-packages (from requests<3,>=2.21.0->tensorboard<2.10,>=2.9->tensorflow) (1.24.3)\n",
            "Requirement already satisfied: oauthlib>=3.0.0 in /usr/local/lib/python3.7/dist-packages (from requests-oauthlib>=0.7.0->google-auth-oauthlib<0.5,>=0.4.1->tensorboard<2.10,>=2.9->tensorflow) (3.2.2)\n",
            "Requirement already satisfied: pyparsing!=3.0.5,>=2.0.2 in /usr/local/lib/python3.7/dist-packages (from packaging->tensorflow) (3.0.9)\n"
          ]
        }
      ]
    },
    {
      "cell_type": "code",
      "source": [
        "!pip install keras"
      ],
      "metadata": {
        "colab": {
          "base_uri": "https://localhost:8080/"
        },
        "id": "7fQO-gMBfpeU",
        "outputId": "37a4aef6-76f0-4552-9421-29ff718b8e72"
      },
      "execution_count": null,
      "outputs": [
        {
          "output_type": "stream",
          "name": "stdout",
          "text": [
            "Looking in indexes: https://pypi.org/simple, https://us-python.pkg.dev/colab-wheels/public/simple/\n",
            "Requirement already satisfied: keras in /usr/local/lib/python3.7/dist-packages (2.9.0)\n"
          ]
        }
      ]
    },
    {
      "cell_type": "code",
      "source": [
        "!pip install h5py"
      ],
      "metadata": {
        "colab": {
          "base_uri": "https://localhost:8080/"
        },
        "id": "dpVOv0VJjzS0",
        "outputId": "9e1864f3-063e-49fc-8293-095e5fba8b2b"
      },
      "execution_count": null,
      "outputs": [
        {
          "output_type": "stream",
          "name": "stdout",
          "text": [
            "Looking in indexes: https://pypi.org/simple, https://us-python.pkg.dev/colab-wheels/public/simple/\n",
            "Requirement already satisfied: h5py in /usr/local/lib/python3.7/dist-packages (3.1.0)\n",
            "Requirement already satisfied: numpy>=1.14.5 in /usr/local/lib/python3.7/dist-packages (from h5py) (1.21.6)\n",
            "Requirement already satisfied: cached-property in /usr/local/lib/python3.7/dist-packages (from h5py) (1.5.2)\n"
          ]
        }
      ]
    },
    {
      "cell_type": "code",
      "source": [
        "import numpy as np\n",
        "import tensorflow as tf\n",
        "from tensorflow import keras\n",
        "# from tensorflow.keras import layers\n",
        "# from tensorflow.keras.models import Sequential\n",
        "from keras.models import Sequential, Model\n",
        "from keras.layers import Dense, Dropout, Flatten, Input, MaxPooling1D, Convolution1D, Embedding\n",
        "from keras.layers import Concatenate\n",
        "from keras.datasets import imdb\n",
        "from keras.preprocessing import sequence\n",
        "from keras import regularizers\n",
        "import joblib\n",
        "from sklearn.metrics import roc_auc_score\n",
        "import keras.backend as K\n",
        "from keras.layers import Layer\n",
        "from keras.layers import multiply\n",
        "from tensorflow.keras import layers\n"
      ],
      "metadata": {
        "id": "rxdkzqaabV2c"
      },
      "execution_count": 12,
      "outputs": []
    },
    {
      "cell_type": "code",
      "source": [
        "label_to_ix=np.load('label_to_ix.npy', allow_pickle=True).item()\n",
        "ix_to_label=np.load('ix_to_label.npy', allow_pickle=True)\n",
        "training_data=np.load('training_data.npy', allow_pickle=True)\n",
        "test_data=np.load('test_data.npy', allow_pickle=True)\n",
        "val_data=np.load('val_data.npy', allow_pickle=True)\n",
        "word_to_ix=np.load('word_to_ix.npy', allow_pickle=True).item()\n",
        "ix_to_word=np.load('ix_to_word.npy', allow_pickle=True)\n",
        "newwikivec=np.load('newwikivec.npy', allow_pickle=True)"
      ],
      "metadata": {
        "id": "QSOAb8jcgRIr"
      },
      "execution_count": 8,
      "outputs": []
    },
    {
      "cell_type": "markdown",
      "source": [
        "# CNN Base Model - Without wiki data"
      ],
      "metadata": {
        "id": "U4gJ_4Ssw4Px"
      }
    },
    {
      "cell_type": "code",
      "source": [
        "# Create the model:\n",
        "\n",
        "EMBEDDING_SIZE = 100\n",
        "hidden_dim=500\n",
        "maxlen = 200\n",
        "MAX_SEQ_LENGTH = 12173\n",
        "MAX_VOCAB = len(word_to_ix)\n",
        "num_classes = len(label_to_ix)\n",
        "\n",
        "\n",
        "class KSI(keras.layers.Layer):\n",
        "    def __init__(self):\n",
        "        super(KSI, self).__init__()\n",
        "    def __init__(self, name=None, **kwargs):\n",
        "        super(KSI, self).__init__(name=name)\n",
        "        super(KSI, self).__init__(**kwargs)    \n",
        "\n",
        "    def get_config(self):\n",
        "        config = super(KSI, self).get_config()\n",
        "        return config            \n",
        "\n",
        "    def build(self,input_shape):\n",
        "        pass\n",
        "\n",
        "    def call(self, inputs):\n",
        "        wiki = newwikivec\n",
        "\n",
        "        notes_input1 = keras.layers.Reshape((1, -1))(inputs)\n",
        "        notes_input2 = tf.repeat(notes_input1, repeats=[wiki.shape[0]], axis=1)\n",
        "        \n",
        "        wiki=wiki.reshape(1,wiki.shape[0], wiki.shape[1])\n",
        "        \n",
        "        batch_size = K.shape(inputs)[0]\n",
        "        wiki_input = K.tile(wiki, (batch_size, 1, 1))\n",
        "        new = multiply([notes_input2, wiki_input])\n",
        "        new1 = layers.Dense(EMBEDDING_SIZE)(new)\n",
        "        attention_layer = Dense(EMBEDDING_SIZE)(new1)\n",
        "        vattention = tf.keras.activations.sigmoid(attention_layer)\n",
        "        multiplied1 = multiply([vattention, new1])\n",
        "        output = layers.Dense(1, activation=None)(multiplied1)\n",
        "        output1 = keras.layers.Reshape((num_classes,))(output)\n",
        "        return output1\n",
        "\n",
        "\n",
        "\n",
        "def build_cnn_model(input_length, embedding_size, max_vocab, num_filters, filter_sizes, training_dropout_keep_prob, num_classes):\n",
        "  model_input = Input(shape=input_length)\n",
        "  z =  Embedding(max_vocab + 1, embedding_size,input_length=input_length, embeddings_regularizer=regularizers.l2(0.0001),name=\"embedding\")(model_input)\n",
        "  # Convolutional block\n",
        "  conv_blocks = []\n",
        "  for sz in filter_sizes:\n",
        "      conv = Convolution1D(filters=num_filters,                         \n",
        "                        kernel_size=sz,\n",
        "                        padding=\"valid\",\n",
        "                        activation=\"relu\",\n",
        "                        strides=1)(z)\n",
        "      window_pool_size =  input_length  - sz + 1 \n",
        "      conv = MaxPooling1D(pool_size=window_pool_size)(conv)  \n",
        "      conv = Flatten()(conv)\n",
        "      conv_blocks.append(conv)\n",
        "  #concatenate\n",
        "  z = Concatenate()(conv_blocks) if len(conv_blocks) > 1 else conv_blocks[0]\n",
        "  z = Dropout(training_dropout_keep_prob)(z)\n",
        "  # z = Dense(hidden_dim, activation=\"relu\")(z)\n",
        "  model_output = Dense(num_classes, activation=\"sigmoid\")(z)\n",
        "\n",
        "  model = Model(model_input, model_output)\n",
        "  # model.compile(loss=\"binary_crossentropy\", optimizer=\"adam\", metrics=[\"accuracy\"])\n",
        "  # print(model.summary())\n",
        "  return model\n",
        "\n",
        "def build_ksi_model():\n",
        "\n",
        "  notes_input = Input(shape=(None,), name=\"notes\") \n",
        "  output1 = KSI()(notes_input)\n",
        "\n",
        "  model = keras.Model(\n",
        "    inputs=[notes_input],\n",
        "    outputs=[output1], name=\"KSI\"\n",
        "  )\n",
        "  return model    "
      ],
      "metadata": {
        "id": "oisFNm6mf-_k"
      },
      "execution_count": 22,
      "outputs": []
    },
    {
      "cell_type": "code",
      "source": [
        "cnn_model = build_cnn_model(input_length=MAX_SEQ_LENGTH, embedding_size=EMBEDDING_SIZE, max_vocab = MAX_VOCAB, num_filters = 100, filter_sizes=[2,3,4,5],\n",
        "                             training_dropout_keep_prob=0.5, num_classes = num_classes)\n",
        "ksi_model = build_ksi_model()\n",
        "\n",
        "mergedOut = tf.keras.layers.Add()([cnn_model.output, ksi_model.output])\n",
        "\n",
        "cnn_ksi_model = Model([cnn_model.input, ksi_model.input], mergedOut)\n",
        "loss = keras.losses.BinaryCrossentropy(from_logits=False)\n",
        "optim = keras.optimizers.Adam(learning_rate=0.001)\n",
        "metrics = [\"accuracy\"]\n",
        "cnn_ksi_model.compile(loss=loss, optimizer=optim, metrics=metrics)  \n",
        "\n",
        "print(cnn_ksi_model.summary())"
      ],
      "metadata": {
        "colab": {
          "base_uri": "https://localhost:8080/"
        },
        "id": "Zl27LYIHk7a8",
        "outputId": "517c7e1c-7f82-41b4-a46a-1b27cd468a0a"
      },
      "execution_count": 23,
      "outputs": [
        {
          "output_type": "stream",
          "name": "stdout",
          "text": [
            "Model: \"model_4\"\n",
            "__________________________________________________________________________________________________\n",
            " Layer (type)                   Output Shape         Param #     Connected to                     \n",
            "==================================================================================================\n",
            " input_3 (InputLayer)           [(None, 12173)]      0           []                               \n",
            "                                                                                                  \n",
            " embedding (Embedding)          (None, 12173, 100)   4796100     ['input_3[0][0]']                \n",
            "                                                                                                  \n",
            " conv1d_8 (Conv1D)              (None, 12172, 100)   20100       ['embedding[0][0]']              \n",
            "                                                                                                  \n",
            " conv1d_9 (Conv1D)              (None, 12171, 100)   30100       ['embedding[0][0]']              \n",
            "                                                                                                  \n",
            " conv1d_10 (Conv1D)             (None, 12170, 100)   40100       ['embedding[0][0]']              \n",
            "                                                                                                  \n",
            " conv1d_11 (Conv1D)             (None, 12169, 100)   50100       ['embedding[0][0]']              \n",
            "                                                                                                  \n",
            " max_pooling1d_8 (MaxPooling1D)  (None, 1, 100)      0           ['conv1d_8[0][0]']               \n",
            "                                                                                                  \n",
            " max_pooling1d_9 (MaxPooling1D)  (None, 1, 100)      0           ['conv1d_9[0][0]']               \n",
            "                                                                                                  \n",
            " max_pooling1d_10 (MaxPooling1D  (None, 1, 100)      0           ['conv1d_10[0][0]']              \n",
            " )                                                                                                \n",
            "                                                                                                  \n",
            " max_pooling1d_11 (MaxPooling1D  (None, 1, 100)      0           ['conv1d_11[0][0]']              \n",
            " )                                                                                                \n",
            "                                                                                                  \n",
            " flatten_8 (Flatten)            (None, 100)          0           ['max_pooling1d_8[0][0]']        \n",
            "                                                                                                  \n",
            " flatten_9 (Flatten)            (None, 100)          0           ['max_pooling1d_9[0][0]']        \n",
            "                                                                                                  \n",
            " flatten_10 (Flatten)           (None, 100)          0           ['max_pooling1d_10[0][0]']       \n",
            "                                                                                                  \n",
            " flatten_11 (Flatten)           (None, 100)          0           ['max_pooling1d_11[0][0]']       \n",
            "                                                                                                  \n",
            " concatenate_2 (Concatenate)    (None, 400)          0           ['flatten_8[0][0]',              \n",
            "                                                                  'flatten_9[0][0]',              \n",
            "                                                                  'flatten_10[0][0]',             \n",
            "                                                                  'flatten_11[0][0]']             \n",
            "                                                                                                  \n",
            " dropout_2 (Dropout)            (None, 400)          0           ['concatenate_2[0][0]']          \n",
            "                                                                                                  \n",
            " notes (InputLayer)             [(None, None)]       0           []                               \n",
            "                                                                                                  \n",
            " dense_2 (Dense)                (None, 344)          137944      ['dropout_2[0][0]']              \n",
            "                                                                                                  \n",
            " ksi_5 (KSI)                    (None, 344)          0           ['notes[0][0]']                  \n",
            "                                                                                                  \n",
            " add_2 (Add)                    (None, 344)          0           ['dense_2[0][0]',                \n",
            "                                                                  'ksi_5[0][0]']                  \n",
            "                                                                                                  \n",
            "==================================================================================================\n",
            "Total params: 5,074,444\n",
            "Trainable params: 5,074,444\n",
            "Non-trainable params: 0\n",
            "__________________________________________________________________________________________________\n",
            "None\n"
          ]
        }
      ]
    },
    {
      "cell_type": "code",
      "source": [
        "from keras.utils import plot_model\n",
        "from IPython.display import Image\n",
        "plot_model(cnn_ksi_model,'cnn_ksi.png')\n",
        "Image('cnn_ksi.png')"
      ],
      "metadata": {
        "colab": {
          "base_uri": "https://localhost:8080/",
          "height": 856
        },
        "id": "gClQuAmYeRj6",
        "outputId": "7298447b-1729-4ad1-9772-4cc4f4c02d18"
      },
      "execution_count": 24,
      "outputs": [
        {
          "output_type": "execute_result",
          "data": {
            "image/png": "[encoded data removed]",
            "text/plain": [
              "<IPython.core.display.Image object>"
            ]
          },
          "metadata": {},
          "execution_count": 24
        }
      ]
    },
    {
      "cell_type": "code",
      "source": [
        "count = [len(x[0]) for x in training_data]"
      ],
      "metadata": {
        "id": "Uc5SoFJbpkWz"
      },
      "execution_count": 25,
      "outputs": []
    },
    {
      "cell_type": "code",
      "source": [
        "min(count), max(count), np.mean(count), np.median(count)"
      ],
      "metadata": {
        "colab": {
          "base_uri": "https://localhost:8080/"
        },
        "id": "okqjQs7Up0Li",
        "outputId": "fd23c288-0a1b-4b6e-82ab-642154c19262"
      },
      "execution_count": 26,
      "outputs": [
        {
          "output_type": "execute_result",
          "data": {
            "text/plain": [
              "(36, 5285, 1023.7772870149578, 937.0)"
            ]
          },
          "metadata": {},
          "execution_count": 26
        }
      ]
    },
    {
      "cell_type": "code",
      "source": [
        "def get_data(input_data):\n",
        "  # training_data is of the form (list of list of words, notes, y )\n",
        "  #training_data[0]\n",
        "  #array([list(['admission', 'date', 'discharge', 'date', 'date', \n",
        "  #array([1., 1., 1., ..., 0., 0., 0.]),\n",
        "       #list(['d_427', 'd_423', 'd_458', 'd_401', 'd_272', 'd_250', 'd_424'])],\n",
        "  x_data =  [[word_to_ix[x] for x in record[0] if x in word_to_ix] for record in input_data]\n",
        "  x_data = tf.keras.utils.pad_sequences(x_data, maxlen=MAX_SEQ_LENGTH, padding=\"post\")\n",
        "  y_data = [[label_to_ix[x] for x in record[2] if x in label_to_ix] for record in input_data]\n",
        "  ylabel_count = np.array([len(item) for item in y_data])\n",
        "  arg_zero = np.argwhere(ylabel_count == 0)\n",
        "  y_data = [y_data[i] for i in range(len(y_data)) if i not in arg_zero]\n",
        "  x_data = [x_data[i] for i in range(len(x_data)) if i not in arg_zero]\n",
        "  x_data = np.array(x_data)\n",
        "  for idx, item in enumerate(y_data):\n",
        "    y = np.zeros(len(label_to_ix),)\n",
        "    y[item] = 1\n",
        "    y_data[idx] = y\n",
        "  y_data = np.array(y_data)\n",
        "  return x_data, y_data"
      ],
      "metadata": {
        "id": "QKFRCopwC9Cn"
      },
      "execution_count": 27,
      "outputs": []
    },
    {
      "cell_type": "code",
      "source": [
        "train_x, train_y = get_data(training_data)"
      ],
      "metadata": {
        "id": "TDeELfOuHUxU"
      },
      "execution_count": 28,
      "outputs": []
    },
    {
      "cell_type": "code",
      "source": [
        "train_y.shape, train_x.shape\n",
        "# ((34898, 344), (34898, 100))"
      ],
      "metadata": {
        "colab": {
          "base_uri": "https://localhost:8080/"
        },
        "id": "SnK99Or-zr_0",
        "outputId": "e0dfda53-e0dd-4082-ffe9-4d0a8f41f28a"
      },
      "execution_count": 29,
      "outputs": [
        {
          "output_type": "execute_result",
          "data": {
            "text/plain": [
              "((34898, 344), (34898, 12173))"
            ]
          },
          "metadata": {},
          "execution_count": 29
        }
      ]
    },
    {
      "cell_type": "code",
      "source": [
        "val_x, val_y = get_data(val_data)\n",
        "test_x, test_y = get_data(test_data)"
      ],
      "metadata": {
        "id": "JwF7Suu7OEXL"
      },
      "execution_count": 30,
      "outputs": []
    },
    {
      "cell_type": "code",
      "source": [
        "val_y.shape, val_x.shape, test_y.shape, test_x.shape"
      ],
      "metadata": {
        "colab": {
          "base_uri": "https://localhost:8080/"
        },
        "id": "7aeb2C0jOmDv",
        "outputId": "08cc32e6-a8fc-48e7-e96e-0da5409d3b78"
      },
      "execution_count": 31,
      "outputs": [
        {
          "output_type": "execute_result",
          "data": {
            "text/plain": [
              "((5022, 344), (5022, 12173), (9985, 344), (9985, 12173))"
            ]
          },
          "metadata": {},
          "execution_count": 31
        }
      ]
    },
    {
      "cell_type": "code",
      "source": [
        "def train_cnn_ksi_model(train_x, train_y, val_x, val_y, batch_size=50, epochs=20):\n",
        "  tf.config.run_functions_eagerly(True) # https://stackoverflow.com/questions/58352326/running-the-tensorflow-2-0-code-gives-valueerror-tf-function-decorated-functio\n",
        "  cnn_ksi_model.fit(x=[train_x, train_x], y=train_y, batch_size=batch_size, epochs=epochs, verbose=1)\n",
        "  # save model\n",
        "  cnn_ksi_model.save('cnn_ksi_20_epochs.h5')"
      ],
      "metadata": {
        "id": "YdDqW_b607yH"
      },
      "execution_count": 46,
      "outputs": []
    },
    {
      "cell_type": "code",
      "source": [
        "import os\n",
        "path='cnn_ksi_20_epochs.h5'\n",
        "isExist = os.path.exists(path)\n",
        "isExist"
      ],
      "metadata": {
        "colab": {
          "base_uri": "https://localhost:8080/"
        },
        "id": "-t_Fuk6SJLtw",
        "outputId": "d99fc61b-76a6-48d9-b9fd-0943ddfc66f4"
      },
      "execution_count": 33,
      "outputs": [
        {
          "output_type": "execute_result",
          "data": {
            "text/plain": [
              "False"
            ]
          },
          "metadata": {},
          "execution_count": 33
        }
      ]
    },
    {
      "cell_type": "code",
      "source": [
        "from keras.models import load_model\n",
        "if not isExist:\n",
        "  train_cnn_ksi_model(train_x, train_y, val_x, val_y, batch_size=50, epochs=20)\n",
        "\n",
        "model = load_model('cnn_ksi_20_epochs.h5', custom_objects={\"KSI\": KSI})\n"
      ],
      "metadata": {
        "id": "rpPkfh8yJYxy",
        "outputId": "cebaec96-c6b7-4e51-a003-df105fc7f7d8",
        "colab": {
          "base_uri": "https://localhost:8080/"
        }
      },
      "execution_count": 47,
      "outputs": [
        {
          "output_type": "stream",
          "name": "stdout",
          "text": [
            "Epoch 1/20\n",
            "698/698 [==============================] - 300s 430ms/step - loss: 7.8037 - accuracy: 0.0046\n",
            "Epoch 2/20\n",
            "698/698 [==============================] - 301s 431ms/step - loss: 7.6725 - accuracy: 0.0045\n",
            "Epoch 3/20\n",
            "698/698 [==============================] - 301s 431ms/step - loss: 7.7039 - accuracy: 0.0045\n",
            "Epoch 4/20\n",
            "698/698 [==============================] - 300s 430ms/step - loss: 7.6672 - accuracy: 0.0047\n",
            "Epoch 5/20\n",
            "698/698 [==============================] - 300s 430ms/step - loss: 7.6922 - accuracy: 0.0046\n",
            "Epoch 6/20\n",
            "698/698 [==============================] - 301s 432ms/step - loss: 7.6395 - accuracy: 0.0043\n",
            "Epoch 7/20\n",
            "698/698 [==============================] - 300s 430ms/step - loss: 7.6298 - accuracy: 0.0041\n",
            "Epoch 8/20\n",
            "698/698 [==============================] - 300s 430ms/step - loss: 7.6177 - accuracy: 0.0048\n",
            "Epoch 9/20\n",
            "698/698 [==============================] - 300s 430ms/step - loss: 7.6286 - accuracy: 0.0046\n",
            "Epoch 10/20\n",
            "698/698 [==============================] - 300s 430ms/step - loss: 7.6757 - accuracy: 0.0046\n",
            "Epoch 11/20\n",
            "698/698 [==============================] - 300s 430ms/step - loss: 7.6862 - accuracy: 0.0050\n",
            "Epoch 12/20\n",
            "698/698 [==============================] - 300s 430ms/step - loss: 7.7623 - accuracy: 0.0048\n",
            "Epoch 13/20\n",
            "698/698 [==============================] - 300s 430ms/step - loss: 7.7708 - accuracy: 0.0049\n",
            "Epoch 14/20\n",
            "698/698 [==============================] - 300s 429ms/step - loss: 7.6997 - accuracy: 0.0050\n",
            "Epoch 15/20\n",
            "698/698 [==============================] - 299s 429ms/step - loss: 7.6709 - accuracy: 0.0045\n",
            "Epoch 16/20\n",
            "698/698 [==============================] - 300s 429ms/step - loss: 7.7517 - accuracy: 0.0044\n",
            "Epoch 17/20\n",
            "698/698 [==============================] - 300s 429ms/step - loss: 7.6640 - accuracy: 0.0042\n",
            "Epoch 18/20\n",
            "698/698 [==============================] - 299s 428ms/step - loss: 7.6157 - accuracy: 0.0046\n",
            "Epoch 19/20\n",
            "698/698 [==============================] - 300s 430ms/step - loss: 7.6527 - accuracy: 0.0052\n",
            "Epoch 20/20\n",
            "698/698 [==============================] - 300s 430ms/step - loss: 7.6928 - accuracy: 0.0041\n"
          ]
        }
      ]
    },
    {
      "cell_type": "code",
      "source": [
        "#prediction for training data\n",
        "pred_train = model.predict([train_x, train_x], batch_size=50)\n",
        "pred_train"
      ],
      "metadata": {
        "colab": {
          "base_uri": "https://localhost:8080/"
        },
        "id": "LV7qwd6fWsSB",
        "outputId": "1475fa88-bc84-47ac-d01f-ecec92ad9bb9"
      },
      "execution_count": 48,
      "outputs": [
        {
          "output_type": "stream",
          "name": "stdout",
          "text": [
            "698/698 [==============================] - 127s 182ms/step\n"
          ]
        },
        {
          "output_type": "execute_result",
          "data": {
            "text/plain": [
              "array([[-3.6617329e+01, -1.6495754e+01, -1.5243515e+01, ...,\n",
              "         8.7175232e+01, -2.6298803e+01, -8.4421091e+00],\n",
              "       [-1.7666086e+01,  4.1169537e+01,  9.8815704e+01, ...,\n",
              "         4.7913368e+01,  8.9864319e+01,  8.9587173e+01],\n",
              "       [ 4.7329300e+01,  3.3117088e+01,  9.9944672e+01, ...,\n",
              "         1.5297891e+02, -5.8512478e+00, -5.5170143e+01],\n",
              "       ...,\n",
              "       [-7.2059830e+01,  5.4979224e+02,  2.3486980e+01, ...,\n",
              "        -1.4320522e+02,  2.1224655e+02,  8.2016431e+02],\n",
              "       [ 7.6079297e-01, -2.0351248e+02, -5.3276550e+02, ...,\n",
              "        -1.1774242e+02, -1.8314836e+02, -4.5359763e+02],\n",
              "       [ 1.0827629e+03,  9.8448956e+02,  4.3224472e+02, ...,\n",
              "         3.2181464e+02,  2.2078822e+02, -2.6246603e+02]], dtype=float32)"
            ]
          },
          "metadata": {},
          "execution_count": 48
        }
      ]
    },
    {
      "cell_type": "code",
      "source": [
        "#prediction for validation data\n",
        "pred_val = model.predict([val_x, val_x], batch_size=50)\n",
        "pred_val"
      ],
      "metadata": {
        "colab": {
          "base_uri": "https://localhost:8080/"
        },
        "id": "LejUsHpeeHnc",
        "outputId": "2af50b98-1bf8-44e5-8a8f-37cb33627d21"
      },
      "execution_count": 50,
      "outputs": [
        {
          "output_type": "stream",
          "name": "stderr",
          "text": [
            "/usr/local/lib/python3.8/dist-packages/tensorflow/python/data/ops/structured_function.py:264: UserWarning: Even though the `tf.config.experimental_run_functions_eagerly` option is set, this option does not apply to tf.data functions. To force eager execution of tf.data functions, please use `tf.data.experimental.enable_debug_mode()`.\n",
            "  warnings.warn(\n"
          ]
        },
        {
          "output_type": "stream",
          "name": "stdout",
          "text": [
            "101/101 [==============================] - 19s 187ms/step\n"
          ]
        },
        {
          "output_type": "execute_result",
          "data": {
            "text/plain": [
              "array([[-1954.4291  ,  -323.37592 ,  1440.0396  , ..., -1274.0266  ,\n",
              "         -237.31952 ,  1636.7896  ],\n",
              "       [-1095.3367  , -1487.9436  ,   483.73535 , ...,   -92.753136,\n",
              "         -721.0963  ,   279.4202  ],\n",
              "       [ -303.106   ,    11.986391,   445.7464  , ...,  -238.65259 ,\n",
              "         -533.0475  ,  -349.34842 ],\n",
              "       ...,\n",
              "       [-1486.1978  ,  -965.35284 ,  -248.20934 , ...,   -18.3483  ,\n",
              "        -1001.59424 ,   726.225   ],\n",
              "       [ -876.4892  ,   294.13452 ,  -589.2467  , ...,   400.15485 ,\n",
              "         -155.45546 ,  -412.4733  ],\n",
              "       [ -235.04724 ,    60.92564 ,   370.87988 , ...,   -23.396671,\n",
              "          -80.414345,   -84.46203 ]], dtype=float32)"
            ]
          },
          "metadata": {},
          "execution_count": 50
        }
      ]
    },
    {
      "cell_type": "code",
      "source": [
        "val_y.shape, pred_val.shape"
      ],
      "metadata": {
        "colab": {
          "base_uri": "https://localhost:8080/"
        },
        "id": "H9M3xH8VeOf7",
        "outputId": "31cc13ad-4167-471e-b0f4-52060b839f25"
      },
      "execution_count": 51,
      "outputs": [
        {
          "output_type": "execute_result",
          "data": {
            "text/plain": [
              "((5022, 344), (5022, 344))"
            ]
          },
          "metadata": {},
          "execution_count": 51
        }
      ]
    },
    {
      "cell_type": "code",
      "source": [
        "from sklearn.metrics import f1_score, roc_auc_score\n",
        "def get_f1_score(y_actual, pred_val):\n",
        "  y_final = np.where(np.array(pred_val) > 0.005, 1, 0)\n",
        "  f1score_macro = f1_score(np.array(y_actual), y_final, average=\"macro\")\n",
        "  print(f\"f1score_macro = {f1score_macro}\")\n",
        "  f1score_micro = f1_score(np.array(y_actual), y_final, average=\"micro\")\n",
        "  print(f\"f1score_micro = {f1score_micro}\")\n",
        "  return f1score_macro, f1score_micro\n"
      ],
      "metadata": {
        "id": "PLktIN4KXTqn"
      },
      "execution_count": 52,
      "outputs": []
    },
    {
      "cell_type": "code",
      "source": [
        "# f1score_micro = f1_score(np.array(train_y), y_final, average=\"micro\")\n",
        "# f1score_micro"
      ],
      "metadata": {
        "colab": {
          "base_uri": "https://localhost:8080/"
        },
        "id": "7XjRr3HTYM6q",
        "outputId": "b7460cc0-6fa2-4aa0-afba-7eb304a19ab1"
      },
      "execution_count": null,
      "outputs": [
        {
          "output_type": "execute_result",
          "data": {
            "text/plain": [
              "0.12242476441350231"
            ]
          },
          "metadata": {},
          "execution_count": 94
        }
      ]
    },
    {
      "cell_type": "code",
      "source": [
        "#prediction for test data\n",
        "pred_test = model.predict([test_x, test_x], batch_size=50)\n",
        "pred_test"
      ],
      "metadata": {
        "colab": {
          "base_uri": "https://localhost:8080/"
        },
        "id": "1w2itf_7WBiT",
        "outputId": "48ee15c9-fdce-44c6-ae9f-c16b4b7cfe28"
      },
      "execution_count": 53,
      "outputs": [
        {
          "output_type": "stream",
          "name": "stderr",
          "text": [
            "/usr/local/lib/python3.8/dist-packages/tensorflow/python/data/ops/structured_function.py:264: UserWarning: Even though the `tf.config.experimental_run_functions_eagerly` option is set, this option does not apply to tf.data functions. To force eager execution of tf.data functions, please use `tf.data.experimental.enable_debug_mode()`.\n",
            "  warnings.warn(\n"
          ]
        },
        {
          "output_type": "stream",
          "name": "stdout",
          "text": [
            "200/200 [==============================] - 38s 188ms/step\n"
          ]
        },
        {
          "output_type": "execute_result",
          "data": {
            "text/plain": [
              "array([[-4021.056   , -1383.7412  , -1190.6897  , ..., -3139.795   ,\n",
              "         -542.9855  , -2160.7048  ],\n",
              "       [  948.7289  ,   -89.87795 ,   720.31824 , ..., -2219.118   ,\n",
              "         1035.9076  ,  -692.06854 ],\n",
              "       [ -609.42566 ,   207.7082  ,   598.48267 , ...,  -449.63834 ,\n",
              "           51.180195,  -429.3139  ],\n",
              "       ...,\n",
              "       [-1424.4629  ,  -636.379   ,  -584.5133  , ...,  -453.5096  ,\n",
              "         -154.45723 ,   -79.74944 ],\n",
              "       [ -796.39105 ,   132.35223 ,   131.77742 , ...,  1252.5972  ,\n",
              "          323.1083  , -1972.3198  ],\n",
              "       [ -532.1722  ,  -220.2358  ,   531.1647  , ...,  -982.92206 ,\n",
              "         1065.5516  , -2061.9404  ]], dtype=float32)"
            ]
          },
          "metadata": {},
          "execution_count": 53
        }
      ]
    },
    {
      "cell_type": "code",
      "source": [
        "f1score_macro, f1score_micro = get_f1_score(val_y, pred_val)\n",
        "f1score_macro, f1score_micro"
      ],
      "metadata": {
        "colab": {
          "base_uri": "https://localhost:8080/"
        },
        "id": "ZFNDZFIhdkFL",
        "outputId": "0ed7fb1d-3a67-464f-d27d-a67e7ecd1578"
      },
      "execution_count": 54,
      "outputs": [
        {
          "output_type": "stream",
          "name": "stdout",
          "text": [
            "f1score_macro = 0.025995883601042144\n",
            "f1score_micro = 0.03199192683358784\n"
          ]
        },
        {
          "output_type": "execute_result",
          "data": {
            "text/plain": [
              "(0.025995883601042144, 0.03199192683358784)"
            ]
          },
          "metadata": {},
          "execution_count": 54
        }
      ]
    },
    {
      "cell_type": "code",
      "source": [
        "f1score_test_macro, f1score_test_micro = get_f1_score(test_y, pred_test)\n",
        "f1score_test_macro, f1score_test_micro"
      ],
      "metadata": {
        "colab": {
          "base_uri": "https://localhost:8080/"
        },
        "id": "Jg74W7Ploj6p",
        "outputId": "15dae11d-9300-4f7f-ebe9-7ccee15cb748"
      },
      "execution_count": 55,
      "outputs": [
        {
          "output_type": "stream",
          "name": "stdout",
          "text": [
            "f1score_macro = 0.02626288420203515\n",
            "f1score_micro = 0.03233008779887292\n"
          ]
        },
        {
          "output_type": "execute_result",
          "data": {
            "text/plain": [
              "(0.02626288420203515, 0.03233008779887292)"
            ]
          },
          "metadata": {},
          "execution_count": 55
        }
      ]
    },
    {
      "cell_type": "code",
      "source": [
        "y_final = np.where(np.array(pred_val) > 0.005, 1, 0)\n",
        "print(len(np.unique(y_final)))\n",
        "print(len(np.unique(val_y)))\n",
        "# auc_macro = roc_auc_score(val_y, y_final, average=\"macro\", multi_class=\"ovo\")\n",
        "# print(f\"auc_macro = {auc_macro}\")\n",
        "auc_micro = roc_auc_score(val_y, y_final, average=\"micro\")\n",
        "print(f\"auc_micro = {auc_micro}\")"
      ],
      "metadata": {
        "colab": {
          "base_uri": "https://localhost:8080/"
        },
        "id": "m3Hk4FMvf7WF",
        "outputId": "b990a8ae-414d-4459-a00b-ec7d1f7d4750"
      },
      "execution_count": 56,
      "outputs": [
        {
          "output_type": "stream",
          "name": "stdout",
          "text": [
            "2\n",
            "2\n",
            "auc_micro = 0.5008391409103538\n"
          ]
        }
      ]
    },
    {
      "cell_type": "code",
      "source": [
        "y_final_test = np.where(np.array(pred_test) > 0.005, 1, 0)\n",
        "print(len(np.unique(y_final_test)))\n",
        "print(len(np.unique(test_y)))\n",
        "# auc_macro = roc_auc_score(test_y, y_final_test, average=\"macro\", multi_class=\"ovo\")\n",
        "# print(f\"auc_macro = {auc_macro}\")\n",
        "auc_micro = roc_auc_score(test_y, y_final_test, average=\"micro\")\n",
        "print(f\"auc_micro = {auc_micro}\")"
      ],
      "metadata": {
        "colab": {
          "base_uri": "https://localhost:8080/"
        },
        "id": "TKqqCBTcYhNq",
        "outputId": "484840a5-0970-45a8-bbcb-7e7907a55234"
      },
      "execution_count": 57,
      "outputs": [
        {
          "output_type": "stream",
          "name": "stdout",
          "text": [
            "2\n",
            "2\n",
            "auc_micro = 0.5005898958674182\n"
          ]
        }
      ]
    },
    {
      "cell_type": "markdown",
      "source": [
        "# Models from Original Paper"
      ],
      "metadata": {
        "id": "9I5d6ogBxH0Y"
      }
    },
    {
      "cell_type": "code",
      "source": [
        "!python KSI_CNN.py"
      ],
      "metadata": {
        "id": "Yz_saJK6oX3e",
        "colab": {
          "base_uri": "https://localhost:8080/"
        },
        "outputId": "dd8240e6-82e2-4382-e3d8-612c57161043"
      },
      "execution_count": null,
      "outputs": [
        {
          "output_type": "stream",
          "name": "stdout",
          "text": [
            "KSI_CNN.py:43: VisibleDeprecationWarning: Creating an ndarray from ragged nested sequences (which is a list-or-tuple of lists-or-tuples-or ndarrays with different lengths or shapes) is deprecated. If you meant to do this, you must specify 'dtype=object' when creating the ndarray.\n",
            "  new_data=np.array(new_data)\n",
            "KSI_CNN.py:57: DeprecationWarning: `np.int` is a deprecated alias for the builtin `int`. To silence this warning, use `int` by itself. Doing this will not modify any behavior and is safe. When replacing `np.int`, you may wish to use e.g. `np.int64` or `np.int32` to specify the precision. If you wish to review your current use, check the release note link for additional information.\n",
            "Deprecated in NumPy 1.20; for more details and guidance: https://numpy.org/devdocs/release/1.20.0-notes.html#deprecations\n",
            "  main_matrix = np.zeros((mybsize, numword), dtype= np.int)\n",
            "start_training\n",
            "0\n",
            "XXXXXXXXXXXXXXXXXXXXXXXXXXXX\n",
            "validation top- 10 0.447759546015512\n",
            "1\n",
            "XXXXXXXXXXXXXXXXXXXXXXXXXXXX\n",
            "validation top- 10 0.5463922233608504\n",
            "2\n",
            "XXXXXXXXXXXXXXXXXXXXXXXXXXXX\n",
            "validation top- 10 0.5869477961874576\n",
            "3\n",
            "XXXXXXXXXXXXXXXXXXXXXXXXXXXX\n",
            "validation top- 10 0.6122995587404496\n",
            "4\n",
            "XXXXXXXXXXXXXXXXXXXXXXXXXXXX\n",
            "validation top- 10 0.6422864593906304\n",
            "5\n",
            "XXXXXXXXXXXXXXXXXXXXXXXXXXXX\n",
            "validation top- 10 0.6617816478566985\n",
            "6\n",
            "XXXXXXXXXXXXXXXXXXXXXXXXXXXX\n",
            "validation top- 10 0.6757633827794965\n",
            "7\n",
            "XXXXXXXXXXXXXXXXXXXXXXXXXXXX\n",
            "validation top- 10 0.6923966392728145\n",
            "8\n",
            "XXXXXXXXXXXXXXXXXXXXXXXXXXXX\n",
            "validation top- 10 0.7061567372641866\n",
            "9\n",
            "XXXXXXXXXXXXXXXXXXXXXXXXXXXX\n",
            "validation top- 10 0.7151707140469439\n",
            "10\n",
            "XXXXXXXXXXXXXXXXXXXXXXXXXXXX\n",
            "validation top- 10 0.7210076915653125\n",
            "11\n",
            "XXXXXXXXXXXXXXXXXXXXXXXXXXXX\n",
            "validation top- 10 0.7297049877302053\n",
            "12\n",
            "XXXXXXXXXXXXXXXXXXXXXXXXXXXX\n",
            "validation top- 10 0.7331820806872247\n",
            "13\n",
            "XXXXXXXXXXXXXXXXXXXXXXXXXXXX\n",
            "validation top- 10 0.7365242396154984\n",
            "14\n",
            "XXXXXXXXXXXXXXXXXXXXXXXXXXXX\n",
            "validation top- 10 0.7438993480615125\n",
            "15\n",
            "XXXXXXXXXXXXXXXXXXXXXXXXXXXX\n",
            "validation top- 10 0.7454819630849553\n",
            "16\n",
            "XXXXXXXXXXXXXXXXXXXXXXXXXXXX\n",
            "validation top- 10 0.7461523181315273\n",
            "17\n",
            "XXXXXXXXXXXXXXXXXXXXXXXXXXXX\n",
            "validation top- 10 0.7476686868566037\n",
            "18\n",
            "XXXXXXXXXXXXXXXXXXXXXXXXXXXX\n",
            "validation top- 10 0.7499788258537549\n",
            "19\n",
            "XXXXXXXXXXXXXXXXXXXXXXXXXXXX\n",
            "validation top- 10 0.7536500680597897\n",
            "20\n",
            "XXXXXXXXXXXXXXXXXXXXXXXXXXXX\n",
            "validation top- 10 0.7548689356360647\n",
            "21\n",
            "XXXXXXXXXXXXXXXXXXXXXXXXXXXX\n",
            "validation top- 10 0.7559340685346785\n",
            "22\n",
            "XXXXXXXXXXXXXXXXXXXXXXXXXXXX\n",
            "validation top- 10 0.7571428727644128\n",
            "23\n",
            "XXXXXXXXXXXXXXXXXXXXXXXXXXXX\n",
            "validation top- 10 0.7577222458278956\n",
            "24\n",
            "XXXXXXXXXXXXXXXXXXXXXXXXXXXX\n",
            "validation top- 10 0.755937462559222\n",
            "25\n",
            "XXXXXXXXXXXXXXXXXXXXXXXXXXXX\n",
            "validation top- 10 0.7575183804216735\n",
            "26\n",
            "XXXXXXXXXXXXXXXXXXXXXXXXXXXX\n",
            "validation top- 10 0.7567200712804484\n",
            "27\n",
            "XXXXXXXXXXXXXXXXXXXXXXXXXXXX\n",
            "validation top- 10 0.7556417372362435\n",
            "28\n",
            "XXXXXXXXXXXXXXXXXXXXXXXXXXXX\n",
            "validation top- 10 0.7561210822650272\n",
            "[0.447759546015512, 0.5463922233608504, 0.5869477961874576, 0.6122995587404496, 0.6422864593906304, 0.6617816478566985, 0.6757633827794965, 0.6923966392728145, 0.7061567372641866, 0.7151707140469439, 0.7210076915653125, 0.7297049877302053, 0.7331820806872247, 0.7365242396154984, 0.7438993480615125, 0.7454819630849553, 0.7461523181315273, 0.7476686868566037, 0.7499788258537549, 0.7536500680597897, 0.7548689356360647, 0.7559340685346785, 0.7571428727644128, 0.7577222458278956, 0.755937462559222, 0.7575183804216735, 0.7567200712804484, 0.7556417372362435, 0.7561210822650272] 23\n",
            "start_training\n",
            "0\n",
            "XXXXXXXXXXXXXXXXXXXXXXXXXXXX\n",
            "validation top- 10 0.7697776387548377\n",
            "1\n",
            "XXXXXXXXXXXXXXXXXXXXXXXXXXXX\n",
            "validation top- 10 0.7745830347368206\n",
            "2\n",
            "XXXXXXXXXXXXXXXXXXXXXXXXXXXX\n",
            "validation top- 10 0.7790220714260897\n",
            "3\n",
            "XXXXXXXXXXXXXXXXXXXXXXXXXXXX\n",
            "validation top- 10 0.7809155243476594\n",
            "4\n",
            "XXXXXXXXXXXXXXXXXXXXXXXXXXXX\n",
            "validation top- 10 0.783218725025504\n",
            "5\n",
            "XXXXXXXXXXXXXXXXXXXXXXXXXXXX\n",
            "validation top- 10 0.7835059702997416\n",
            "6\n",
            "XXXXXXXXXXXXXXXXXXXXXXXXXXXX\n",
            "validation top- 10 0.7829316702307447\n",
            "7\n",
            "XXXXXXXXXXXXXXXXXXXXXXXXXXXX\n",
            "validation top- 10 0.7813091366856753\n",
            "8\n",
            "XXXXXXXXXXXXXXXXXXXXXXXXXXXX\n",
            "validation top- 10 0.781788900439549\n",
            "9\n",
            "XXXXXXXXXXXXXXXXXXXXXXXXXXXX\n",
            "validation top- 10 0.7809344594810457\n",
            "10\n",
            "XXXXXXXXXXXXXXXXXXXXXXXXXXXX\n",
            "validation top- 10 0.777941154173852\n",
            "[0.7697776387548377, 0.7745830347368206, 0.7790220714260897, 0.7809155243476594, 0.783218725025504, 0.7835059702997416, 0.7829316702307447, 0.7813091366856753, 0.781788900439549, 0.7809344594810457, 0.777941154173852] 5\n",
            "CNN alone:           \n",
            "KSI_CNN.py:296: DeprecationWarning: `np.int` is a deprecated alias for the builtin `int`. To silence this warning, use `int` by itself. Doing this will not modify any behavior and is safe. When replacing `np.int`, you may wish to use e.g. `np.int64` or `np.int32` to specify the precision. If you wish to review your current use, check the release note link for additional information.\n",
            "Deprecated in NumPy 1.20; for more details and guidance: https://numpy.org/devdocs/release/1.20.0-notes.html#deprecations\n",
            "  y_pred=(y_scores>0.5).astype(np.int)\n",
            "test loss 0.03901169\n",
            "top- 10 0.7500204603362106\n",
            "macro AUC 0.8312319298310952\n",
            "micro AUC 0.9656105557742741\n",
            "macro F1 0.21103060111847347\n",
            "micro F1 0.6225067502830763\n",
            "XXXXXXXXXXXXXXXXXXXXXXXXXXXXXXXXXXXXXXXXXXXXXXXXXXXXXXXXXX\n",
            "KSI+CNN:           \n",
            "KSI_CNN.py:296: DeprecationWarning: `np.int` is a deprecated alias for the builtin `int`. To silence this warning, use `int` by itself. Doing this will not modify any behavior and is safe. When replacing `np.int`, you may wish to use e.g. `np.int64` or `np.int32` to specify the precision. If you wish to review your current use, check the release note link for additional information.\n",
            "Deprecated in NumPy 1.20; for more details and guidance: https://numpy.org/devdocs/release/1.20.0-notes.html#deprecations\n",
            "  y_pred=(y_scores>0.5).astype(np.int)\n",
            "test loss 0.034980208\n",
            "top- 10 0.7812795295965008\n",
            "macro AUC 0.87048521579638\n",
            "micro AUC 0.9736050470496298\n",
            "macro F1 0.2498243106070881\n",
            "micro F1 0.6434982863981722\n"
          ]
        }
      ]
    },
    {
      "cell_type": "code",
      "source": [
        "!python KSI_LSTM.py"
      ],
      "metadata": {
        "colab": {
          "base_uri": "https://localhost:8080/"
        },
        "id": "UQVabYxpN-Sl",
        "outputId": "3c61dfe4-a8c7-4641-e6a6-61f1ffe393f0"
      },
      "execution_count": null,
      "outputs": [
        {
          "output_type": "stream",
          "name": "stdout",
          "text": [
            "KSI_LSTM.py:42: VisibleDeprecationWarning: Creating an ndarray from ragged nested sequences (which is a list-or-tuple of lists-or-tuples-or ndarrays with different lengths or shapes) is deprecated. If you meant to do this, you must specify 'dtype=object' when creating the ndarray.\n",
            "  new_data=np.array(new_data)\n",
            "KSI_LSTM.py:56: DeprecationWarning: `np.int` is a deprecated alias for the builtin `int`. To silence this warning, use `int` by itself. Doing this will not modify any behavior and is safe. When replacing `np.int`, you may wish to use e.g. `np.int64` or `np.int32` to specify the precision. If you wish to review your current use, check the release note link for additional information.\n",
            "Deprecated in NumPy 1.20; for more details and guidance: https://numpy.org/devdocs/release/1.20.0-notes.html#deprecations\n",
            "  main_matrix = np.zeros((mybsize, numword), dtype= np.int)\n",
            "start_training\n",
            "0\n",
            "XXXXXXXXXXXXXXXXXXXXXXXXXXXX\n",
            "validation top- 10 0.4288319600440542\n",
            "1\n",
            "XXXXXXXXXXXXXXXXXXXXXXXXXXXX\n",
            "validation top- 10 0.49612631506771865\n",
            "2\n",
            "XXXXXXXXXXXXXXXXXXXXXXXXXXXX\n",
            "validation top- 10 0.5371347397996127\n",
            "3\n",
            "XXXXXXXXXXXXXXXXXXXXXXXXXXXX\n",
            "validation top- 10 0.57960611939744\n",
            "4\n",
            "XXXXXXXXXXXXXXXXXXXXXXXXXXXX\n",
            "validation top- 10 0.6060135762942431\n",
            "5\n",
            "XXXXXXXXXXXXXXXXXXXXXXXXXXXX\n",
            "validation top- 10 0.6306258634506745\n",
            "6\n",
            "XXXXXXXXXXXXXXXXXXXXXXXXXXXX\n",
            "validation top- 10 0.6529176350147726\n",
            "7\n",
            "XXXXXXXXXXXXXXXXXXXXXXXXXXXX\n",
            "validation top- 10 0.6650854147296982\n",
            "8\n",
            "XXXXXXXXXXXXXXXXXXXXXXXXXXXX\n",
            "validation top- 10 0.6776047413733818\n",
            "9\n",
            "XXXXXXXXXXXXXXXXXXXXXXXXXXXX\n",
            "validation top- 10 0.6885564256977353\n",
            "10\n",
            "XXXXXXXXXXXXXXXXXXXXXXXXXXXX\n",
            "validation top- 10 0.6986521278980811\n",
            "11\n",
            "XXXXXXXXXXXXXXXXXXXXXXXXXXXX\n",
            "validation top- 10 0.7030694364234735\n",
            "12\n",
            "XXXXXXXXXXXXXXXXXXXXXXXXXXXX\n",
            "validation top- 10 0.7123422624852275\n",
            "13\n",
            "XXXXXXXXXXXXXXXXXXXXXXXXXXXX\n",
            "validation top- 10 0.7180066227334836\n",
            "14\n",
            "XXXXXXXXXXXXXXXXXXXXXXXXXXXX\n",
            "validation top- 10 0.7228353739341756\n",
            "15\n",
            "XXXXXXXXXXXXXXXXXXXXXXXXXXXX\n",
            "validation top- 10 0.7253831336542651\n",
            "16\n",
            "XXXXXXXXXXXXXXXXXXXXXXXXXXXX\n",
            "validation top- 10 0.732078014625066\n",
            "17\n",
            "XXXXXXXXXXXXXXXXXXXXXXXXXXXX\n",
            "validation top- 10 0.7380664659954834\n",
            "18\n",
            "XXXXXXXXXXXXXXXXXXXXXXXXXXXX\n",
            "validation top- 10 0.7391607743819303\n",
            "19\n",
            "XXXXXXXXXXXXXXXXXXXXXXXXXXXX\n",
            "validation top- 10 0.7433243865083464\n",
            "20\n",
            "XXXXXXXXXXXXXXXXXXXXXXXXXXXX\n",
            "validation top- 10 0.7440340243947641\n",
            "21\n",
            "XXXXXXXXXXXXXXXXXXXXXXXXXXXX\n",
            "validation top- 10 0.7454775971945329\n",
            "22\n",
            "XXXXXXXXXXXXXXXXXXXXXXXXXXXX\n",
            "validation top- 10 0.748999388471214\n",
            "23\n",
            "XXXXXXXXXXXXXXXXXXXXXXXXXXXX\n",
            "validation top- 10 0.7498219216181418\n",
            "24\n",
            "XXXXXXXXXXXXXXXXXXXXXXXXXXXX\n",
            "validation top- 10 0.7525390306737908\n",
            "25\n",
            "XXXXXXXXXXXXXXXXXXXXXXXXXXXX\n",
            "validation top- 10 0.7543717731209019\n",
            "26\n",
            "XXXXXXXXXXXXXXXXXXXXXXXXXXXX\n",
            "validation top- 10 0.7569278331575957\n",
            "27\n",
            "XXXXXXXXXXXXXXXXXXXXXXXXXXXX\n",
            "validation top- 10 0.757324332479805\n",
            "28\n",
            "XXXXXXXXXXXXXXXXXXXXXXXXXXXX\n",
            "validation top- 10 0.7601317011960999\n",
            "29\n",
            "XXXXXXXXXXXXXXXXXXXXXXXXXXXX\n",
            "validation top- 10 0.7565299421569608\n",
            "30\n",
            "XXXXXXXXXXXXXXXXXXXXXXXXXXXX\n",
            "validation top- 10 0.7595054744603529\n",
            "Traceback (most recent call last):\n",
            "  File \"KSI_LSTM.py\", line 225, in <module>\n",
            "    basemodel= trainmodel(model, 0)\n",
            "  File \"KSI_LSTM.py\", line 170, in trainmodel\n",
            "    tag_scores = model(mysentence[0].cuda(),mysentence[1].cuda(),wikivec.cuda(),sim)\n",
            "KeyboardInterrupt\n"
          ]
        }
      ]
    },
    {
      "cell_type": "code",
      "source": [
        "!python KSI_LSTMatt.py"
      ],
      "metadata": {
        "colab": {
          "base_uri": "https://localhost:8080/"
        },
        "id": "en55s1nPOBQ-",
        "outputId": "acb344bf-c354-425d-9b1f-3c522dfb6bef"
      },
      "execution_count": null,
      "outputs": [
        {
          "output_type": "stream",
          "name": "stdout",
          "text": [
            "KSI_LSTMatt.py:42: VisibleDeprecationWarning: Creating an ndarray from ragged nested sequences (which is a list-or-tuple of lists-or-tuples-or ndarrays with different lengths or shapes) is deprecated. If you meant to do this, you must specify 'dtype=object' when creating the ndarray.\n",
            "  new_data=np.array(new_data)\n",
            "KSI_LSTMatt.py:56: DeprecationWarning: `np.int` is a deprecated alias for the builtin `int`. To silence this warning, use `int` by itself. Doing this will not modify any behavior and is safe. When replacing `np.int`, you may wish to use e.g. `np.int64` or `np.int32` to specify the precision. If you wish to review your current use, check the release note link for additional information.\n",
            "Deprecated in NumPy 1.20; for more details and guidance: https://numpy.org/devdocs/release/1.20.0-notes.html#deprecations\n",
            "  main_matrix = np.zeros((mybsize, numword), dtype= np.int)\n",
            "start_training\n",
            "0\n",
            "XXXXXXXXXXXXXXXXXXXXXXXXXXXX\n",
            "validation top- 10 0.3796880833045024\n",
            "1\n",
            "XXXXXXXXXXXXXXXXXXXXXXXXXXXX\n",
            "validation top- 10 0.5110696636997789\n",
            "2\n",
            "XXXXXXXXXXXXXXXXXXXXXXXXXXXX\n",
            "validation top- 10 0.6093055428192424\n",
            "3\n",
            "XXXXXXXXXXXXXXXXXXXXXXXXXXXX\n",
            "validation top- 10 0.6572779123564315\n",
            "4\n",
            "XXXXXXXXXXXXXXXXXXXXXXXXXXXX\n",
            "validation top- 10 0.6913102760352287\n",
            "5\n",
            "XXXXXXXXXXXXXXXXXXXXXXXXXXXX\n",
            "validation top- 10 0.712381054140963\n",
            "6\n",
            "XXXXXXXXXXXXXXXXXXXXXXXXXXXX\n",
            "validation top- 10 0.7319656780423488\n",
            "7\n",
            "XXXXXXXXXXXXXXXXXXXXXXXXXXXX\n",
            "validation top- 10 0.7490557300327217\n",
            "8\n",
            "XXXXXXXXXXXXXXXXXXXXXXXXXXXX\n",
            "validation top- 10 0.7648167395299731\n",
            "9\n",
            "XXXXXXXXXXXXXXXXXXXXXXXXXXXX\n",
            "validation top- 10 0.7701526572533232\n",
            "10\n",
            "XXXXXXXXXXXXXXXXXXXXXXXXXXXX\n",
            "validation top- 10 0.7730448759900487\n",
            "11\n",
            "XXXXXXXXXXXXXXXXXXXXXXXXXXXX\n",
            "validation top- 10 0.7802758508102225\n",
            "12\n",
            "XXXXXXXXXXXXXXXXXXXXXXXXXXXX\n",
            "validation top- 10 0.7834162074668065\n",
            "13\n",
            "XXXXXXXXXXXXXXXXXXXXXXXXXXXX\n",
            "validation top- 10 0.7871388343424428\n",
            "14\n",
            "XXXXXXXXXXXXXXXXXXXXXXXXXXXX\n",
            "validation top- 10 0.7905063480623135\n",
            "15\n",
            "XXXXXXXXXXXXXXXXXXXXXXXXXXXX\n",
            "validation top- 10 0.7922422765221323\n",
            "16\n",
            "XXXXXXXXXXXXXXXXXXXXXXXXXXXX\n",
            "validation top- 10 0.7941588853586284\n",
            "17\n",
            "XXXXXXXXXXXXXXXXXXXXXXXXXXXX\n",
            "validation top- 10 0.7925567496754249\n",
            "18\n",
            "XXXXXXXXXXXXXXXXXXXXXXXXXXXX\n",
            "validation top- 10 0.7952998549125266\n",
            "19\n",
            "XXXXXXXXXXXXXXXXXXXXXXXXXXXX\n",
            "validation top- 10 0.7950354012869386\n",
            "20\n",
            "XXXXXXXXXXXXXXXXXXXXXXXXXXXX\n",
            "validation top- 10 0.7939392185467694\n",
            "21\n",
            "XXXXXXXXXXXXXXXXXXXXXXXXXXXX\n",
            "validation top- 10 0.7964898564680106\n",
            "22\n",
            "XXXXXXXXXXXXXXXXXXXXXXXXXXXX\n",
            "validation top- 10 0.7928819255311822\n",
            "23\n",
            "XXXXXXXXXXXXXXXXXXXXXXXXXXXX\n",
            "validation top- 10 0.7934365995499347\n",
            "24\n",
            "XXXXXXXXXXXXXXXXXXXXXXXXXXXX\n",
            "validation top- 10 0.7917423948264123\n",
            "25\n",
            "XXXXXXXXXXXXXXXXXXXXXXXXXXXX\n",
            "validation top- 10 0.7901647969657816\n",
            "26\n",
            "XXXXXXXXXXXXXXXXXXXXXXXXXXXX\n",
            "validation top- 10 0.7915144060081255\n",
            "[0.3796880833045024, 0.5110696636997789, 0.6093055428192424, 0.6572779123564315, 0.6913102760352287, 0.712381054140963, 0.7319656780423488, 0.7490557300327217, 0.7648167395299731, 0.7701526572533232, 0.7730448759900487, 0.7802758508102225, 0.7834162074668065, 0.7871388343424428, 0.7905063480623135, 0.7922422765221323, 0.7941588853586284, 0.7925567496754249, 0.7952998549125266, 0.7950354012869386, 0.7939392185467694, 0.7964898564680106, 0.7928819255311822, 0.7934365995499347, 0.7917423948264123, 0.7901647969657816, 0.7915144060081255] 21\n",
            "start_training\n",
            "0\n",
            "XXXXXXXXXXXXXXXXXXXXXXXXXXXX\n",
            "validation top- 10 0.8050618299416882\n",
            "1\n",
            "XXXXXXXXXXXXXXXXXXXXXXXXXXXX\n",
            "validation top- 10 0.8087069770231602\n",
            "2\n",
            "XXXXXXXXXXXXXXXXXXXXXXXXXXXX\n",
            "validation top- 10 0.8121895666324257\n",
            "3\n",
            "XXXXXXXXXXXXXXXXXXXXXXXXXXXX\n",
            "validation top- 10 0.8125589393620954\n",
            "4\n",
            "XXXXXXXXXXXXXXXXXXXXXXXXXXXX\n",
            "validation top- 10 0.8122919644275569\n",
            "5\n",
            "XXXXXXXXXXXXXXXXXXXXXXXXXXXX\n",
            "validation top- 10 0.8111489062427737\n",
            "6\n",
            "XXXXXXXXXXXXXXXXXXXXXXXXXXXX\n",
            "validation top- 10 0.809490758053944\n",
            "7\n",
            "XXXXXXXXXXXXXXXXXXXXXXXXXXXX\n",
            "validation top- 10 0.8094009200463553\n",
            "8\n",
            "XXXXXXXXXXXXXXXXXXXXXXXXXXXX\n",
            "validation top- 10 0.807479054481567\n",
            "[0.8050618299416882, 0.8087069770231602, 0.8121895666324257, 0.8125589393620954, 0.8122919644275569, 0.8111489062427737, 0.809490758053944, 0.8094009200463553, 0.807479054481567] 3\n",
            "LSTMattn alone:           \n",
            "KSI_LSTMatt.py:299: DeprecationWarning: `np.int` is a deprecated alias for the builtin `int`. To silence this warning, use `int` by itself. Doing this will not modify any behavior and is safe. When replacing `np.int`, you may wish to use e.g. `np.int64` or `np.int32` to specify the precision. If you wish to review your current use, check the release note link for additional information.\n",
            "Deprecated in NumPy 1.20; for more details and guidance: https://numpy.org/devdocs/release/1.20.0-notes.html#deprecations\n",
            "  y_pred=(y_scores>0.5).astype(np.int)\n",
            "test loss 0.035679273\n",
            "top- 10 0.7890955665519177\n",
            "macro AUC 0.8471586694123668\n",
            "micro AUC 0.9739016293528034\n",
            "macro F1 0.2479528389006514\n",
            "micro F1 0.6435407087266642\n",
            "XXXXXXXXXXXXXXXXXXXXXXXXXXXXXXXXXXXXXXXXXXXXXXXXXXXXXXXXXX\n",
            "KSI+LSTMattn:           \n",
            "KSI_LSTMatt.py:299: DeprecationWarning: `np.int` is a deprecated alias for the builtin `int`. To silence this warning, use `int` by itself. Doing this will not modify any behavior and is safe. When replacing `np.int`, you may wish to use e.g. `np.int64` or `np.int32` to specify the precision. If you wish to review your current use, check the release note link for additional information.\n",
            "Deprecated in NumPy 1.20; for more details and guidance: https://numpy.org/devdocs/release/1.20.0-notes.html#deprecations\n",
            "  y_pred=(y_scores>0.5).astype(np.int)\n",
            "test loss 0.0327006\n",
            "top- 10 0.8033933083742822\n",
            "macro AUC 0.8869315218841526\n",
            "micro AUC 0.977975293333773\n",
            "macro F1 0.2948724435620207\n",
            "micro F1 0.6617492987258777\n"
          ]
        }
      ]
    },
    {
      "cell_type": "code",
      "source": [
        "!python KSI_CAML.py"
      ],
      "metadata": {
        "colab": {
          "base_uri": "https://localhost:8080/"
        },
        "id": "rDROr_Gw3Xqj",
        "outputId": "42d5e641-ff23-4929-fd13-bf8621c6cd25"
      },
      "execution_count": null,
      "outputs": [
        {
          "output_type": "stream",
          "name": "stdout",
          "text": [
            "KSI_CAML.py:43: VisibleDeprecationWarning: Creating an ndarray from ragged nested sequences (which is a list-or-tuple of lists-or-tuples-or ndarrays with different lengths or shapes) is deprecated. If you meant to do this, you must specify 'dtype=object' when creating the ndarray.\n",
            "  new_data=np.array(new_data)\n",
            "KSI_CAML.py:57: DeprecationWarning: `np.int` is a deprecated alias for the builtin `int`. To silence this warning, use `int` by itself. Doing this will not modify any behavior and is safe. When replacing `np.int`, you may wish to use e.g. `np.int64` or `np.int32` to specify the precision. If you wish to review your current use, check the release note link for additional information.\n",
            "Deprecated in NumPy 1.20; for more details and guidance: https://numpy.org/devdocs/release/1.20.0-notes.html#deprecations\n",
            "  main_matrix = np.zeros((mybsize, numword), dtype= np.int)\n",
            "start_training\n",
            "0\n",
            "XXXXXXXXXXXXXXXXXXXXXXXXXXXX\n",
            "validation top- 10 0.6044048484082241\n",
            "1\n",
            "XXXXXXXXXXXXXXXXXXXXXXXXXXXX\n",
            "validation top- 10 0.7351386587887544\n",
            "2\n",
            "XXXXXXXXXXXXXXXXXXXXXXXXXXXX\n",
            "validation top- 10 0.7708715147202543\n",
            "3\n",
            "XXXXXXXXXXXXXXXXXXXXXXXXXXXX\n",
            "validation top- 10 0.7896376400647074\n",
            "4\n",
            "XXXXXXXXXXXXXXXXXXXXXXXXXXXX\n",
            "validation top- 10 0.7972106688739532\n",
            "5\n",
            "XXXXXXXXXXXXXXXXXXXXXXXXXXXX\n",
            "validation top- 10 0.8031287366802995\n",
            "6\n",
            "XXXXXXXXXXXXXXXXXXXXXXXXXXXX\n",
            "validation top- 10 0.8069326762550824\n",
            "7\n",
            "XXXXXXXXXXXXXXXXXXXXXXXXXXXX\n",
            "validation top- 10 0.8055677895487277\n",
            "8\n",
            "XXXXXXXXXXXXXXXXXXXXXXXXXXXX\n",
            "validation top- 10 0.8053297325208615\n",
            "9\n",
            "XXXXXXXXXXXXXXXXXXXXXXXXXXXX\n",
            "validation top- 10 0.8063642871379448\n",
            "10\n",
            "XXXXXXXXXXXXXXXXXXXXXXXXXXXX\n",
            "validation top- 10 0.8090197694390706\n",
            "11\n",
            "XXXXXXXXXXXXXXXXXXXXXXXXXXXX\n",
            "validation top- 10 0.8092199470698243\n",
            "12\n",
            "XXXXXXXXXXXXXXXXXXXXXXXXXXXX\n",
            "validation top- 10 0.8101487634371684\n",
            "13\n",
            "XXXXXXXXXXXXXXXXXXXXXXXXXXXX\n",
            "validation top- 10 0.8113517289815019\n",
            "14\n",
            "XXXXXXXXXXXXXXXXXXXXXXXXXXXX\n",
            "validation top- 10 0.8116583075427964\n",
            "15\n",
            "XXXXXXXXXXXXXXXXXXXXXXXXXXXX\n",
            "validation top- 10 0.8104984101565177\n",
            "16\n",
            "XXXXXXXXXXXXXXXXXXXXXXXXXXXX\n",
            "validation top- 10 0.8100182952683771\n",
            "17\n",
            "XXXXXXXXXXXXXXXXXXXXXXXXXXXX\n",
            "validation top- 10 0.808002453091821\n",
            "18\n",
            "XXXXXXXXXXXXXXXXXXXXXXXXXXXX\n",
            "validation top- 10 0.805693506951576\n",
            "19\n",
            "XXXXXXXXXXXXXXXXXXXXXXXXXXXX\n",
            "validation top- 10 0.8057614128038348\n",
            "[0.6044048484082241, 0.7351386587887544, 0.7708715147202543, 0.7896376400647074, 0.7972106688739532, 0.8031287366802995, 0.8069326762550824, 0.8055677895487277, 0.8053297325208615, 0.8063642871379448, 0.8090197694390706, 0.8092199470698243, 0.8101487634371684, 0.8113517289815019, 0.8116583075427964, 0.8104984101565177, 0.8100182952683771, 0.808002453091821, 0.805693506951576, 0.8057614128038348] 14\n",
            "start_training\n",
            "0\n",
            "XXXXXXXXXXXXXXXXXXXXXXXXXXXX\n",
            "validation top- 10 0.8140266255254831\n",
            "1\n",
            "XXXXXXXXXXXXXXXXXXXXXXXXXXXX\n",
            "validation top- 10 0.8147091382076955\n",
            "2\n",
            "XXXXXXXXXXXXXXXXXXXXXXXXXXXX\n",
            "validation top- 10 0.8170125045297363\n",
            "3\n",
            "XXXXXXXXXXXXXXXXXXXXXXXXXXXX\n",
            "validation top- 10 0.8182234205097768\n",
            "4\n",
            "XXXXXXXXXXXXXXXXXXXXXXXXXXXX\n",
            "validation top- 10 0.8171049411193342\n",
            "5\n",
            "XXXXXXXXXXXXXXXXXXXXXXXXXXXX\n",
            "validation top- 10 0.8175013924988754\n",
            "6\n",
            "XXXXXXXXXXXXXXXXXXXXXXXXXXXX\n",
            "validation top- 10 0.8159682510283893\n",
            "7\n",
            "XXXXXXXXXXXXXXXXXXXXXXXXXXXX\n",
            "validation top- 10 0.8140574932786019\n",
            "8\n",
            "XXXXXXXXXXXXXXXXXXXXXXXXXXXX\n",
            "validation top- 10 0.8104559403705842\n",
            "[0.8140266255254831, 0.8147091382076955, 0.8170125045297363, 0.8182234205097768, 0.8171049411193342, 0.8175013924988754, 0.8159682510283893, 0.8140574932786019, 0.8104559403705842] 3\n",
            "CAML alone:           \n",
            "KSI_CAML.py:290: DeprecationWarning: `np.int` is a deprecated alias for the builtin `int`. To silence this warning, use `int` by itself. Doing this will not modify any behavior and is safe. When replacing `np.int`, you may wish to use e.g. `np.int64` or `np.int32` to specify the precision. If you wish to review your current use, check the release note link for additional information.\n",
            "Deprecated in NumPy 1.20; for more details and guidance: https://numpy.org/devdocs/release/1.20.0-notes.html#deprecations\n",
            "  y_pred=(y_scores>0.5).astype(np.int)\n",
            "test loss 0.0331816\n",
            "top- 10 0.8082227943470723\n",
            "macro AUC 0.8531734147062066\n",
            "micro AUC 0.9782101645827287\n",
            "macro F1 0.281852134831064\n",
            "micro F1 0.6581356098693552\n",
            "XXXXXXXXXXXXXXXXXXXXXXXXXXXXXXXXXXXXXXXXXXXXXXXXXXXXXXXXXX\n",
            "KSI+CAML:           \n",
            "KSI_CAML.py:290: DeprecationWarning: `np.int` is a deprecated alias for the builtin `int`. To silence this warning, use `int` by itself. Doing this will not modify any behavior and is safe. When replacing `np.int`, you may wish to use e.g. `np.int64` or `np.int32` to specify the precision. If you wish to review your current use, check the release note link for additional information.\n",
            "Deprecated in NumPy 1.20; for more details and guidance: https://numpy.org/devdocs/release/1.20.0-notes.html#deprecations\n",
            "  y_pred=(y_scores>0.5).astype(np.int)\n",
            "test loss 0.03233041\n",
            "top- 10 0.81482262907353\n",
            "macro AUC 0.8824331455916562\n",
            "micro AUC 0.9801271600924634\n",
            "macro F1 0.2968179130496338\n",
            "micro F1 0.6652959265571878\n"
          ]
        }
      ]
    }
  ]
}